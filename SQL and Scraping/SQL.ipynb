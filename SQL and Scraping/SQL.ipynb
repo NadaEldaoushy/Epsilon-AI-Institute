{
  "nbformat": 4,
  "nbformat_minor": 0,
  "metadata": {
    "colab": {
      "name": "SQL.ipynb",
      "provenance": [],
      "collapsed_sections": []
    },
    "kernelspec": {
      "name": "python3",
      "display_name": "Python 3"
    },
    "language_info": {
      "name": "python"
    }
  },
  "cells": [
    {
      "cell_type": "code",
      "metadata": {
        "id": "YfP998s5LbDW"
      },
      "source": [
        "import sqlite3\n",
        "\n",
        "conn = sqlite3.connect('books.db')\n",
        "cur = conn.cursor()"
      ],
      "execution_count": 2,
      "outputs": []
    },
    {
      "cell_type": "code",
      "metadata": {
        "id": "V2p7WZB-L2b7"
      },
      "source": [
        "def get_rows(sql, data):\n",
        "    global conn\n",
        "    global cur\n",
        "    cur.execute(sql, data)\n",
        "    rows = cur.fetchall()\n",
        "    for ID, title, price, rate, cat_id in rows:\n",
        "        print(f\"[{ID}] ----- {title} ----- {price} £----- {rate} ----- Cat_id: {cat_id}\")"
      ],
      "execution_count": 10,
      "outputs": []
    },
    {
      "cell_type": "markdown",
      "metadata": {
        "id": "dmvW-S36NjvY"
      },
      "source": [
        "*Books that has rate >=3 and has 'Mr' in its name*"
      ]
    },
    {
      "cell_type": "code",
      "metadata": {
        "id": "ZLF400qVM50I"
      },
      "source": [
        "get_rows(\"SELECT * FROM books WHERE rate >= ? AND title LIKE ?\", [3, '%Mr%'])"
      ],
      "execution_count": 6,
      "outputs": []
    },
    {
      "cell_type": "markdown",
      "metadata": {
        "id": "Q4w1vbZONw9E"
      },
      "source": [
        "*Books that has rate >=3 or price > 20*"
      ]
    },
    {
      "cell_type": "code",
      "metadata": {
        "id": "0XOl6iz6N1yA"
      },
      "source": [
        "get_rows(\"SELECT * FROM books WHERE rate >= ? OR price > ?\", [3,20])"
      ],
      "execution_count": null,
      "outputs": []
    },
    {
      "cell_type": "markdown",
      "metadata": {
        "id": "snF1efYuN3NC"
      },
      "source": [
        "*Books that has rate not 3*"
      ]
    },
    {
      "cell_type": "code",
      "metadata": {
        "id": "2cMPFNbXN7kU"
      },
      "source": [
        "get_rows(\"SELECT * FROM books WHERE rate != ?\", [3])"
      ],
      "execution_count": null,
      "outputs": []
    },
    {
      "cell_type": "markdown",
      "metadata": {
        "id": "AkwTyOqYN-xu"
      },
      "source": [
        "*Books that has price between 10 and 40 and has rate 3 or 4 or 1*"
      ]
    },
    {
      "cell_type": "code",
      "metadata": {
        "id": "WxNWMXGgODC7"
      },
      "source": [
        "get_rows(\"SELECT * FROM books WHERE rate IN (?,?,?) AND price BETWEEN ? AND ?\",[3, 4, 1, 10, 40])"
      ],
      "execution_count": null,
      "outputs": []
    },
    {
      "cell_type": "markdown",
      "metadata": {
        "id": "bfbQl8UIOFyG"
      },
      "source": [
        "*The top 5 most expensive books (order books desc with price column and then limit the result to the first 5)*"
      ]
    },
    {
      "cell_type": "code",
      "metadata": {
        "id": "-fG-i_3fOI9T"
      },
      "source": [
        "get_rows(\"SELECT * FROM books ORDER BY price DESC LIMIT 5\", [])"
      ],
      "execution_count": null,
      "outputs": []
    },
    {
      "cell_type": "markdown",
      "metadata": {
        "id": "x2hoNDrtOSRr"
      },
      "source": [
        "*The 3rd 10 books in the books table order first by rate desc and then by price asc*"
      ]
    },
    {
      "cell_type": "code",
      "metadata": {
        "id": "aaVax5qPOZi3"
      },
      "source": [
        "get_rows(\"SELECT * FROM books ORDER BY rate DESC, price ASC LIMIT 10 OFFSET 3\", [])"
      ],
      "execution_count": null,
      "outputs": []
    },
    {
      "cell_type": "markdown",
      "metadata": {
        "id": "hb7Tr6a5Oak3"
      },
      "source": [
        "*A new category in categories table and add 5 books to this category in books table with title, rate and price*"
      ]
    },
    {
      "cell_type": "code",
      "metadata": {
        "id": "2EHicAYbOe79"
      },
      "source": [
        "cur.execute(\"INSERT INTO categories (name) VALUES (?)\", ['Programming'])\n",
        "conn.commit()\n",
        "book_id = cur.lastrowid\n",
        "for i in range(5):\n",
        "    cur.execute(\"INSERT INTO books (title,price,rate,category_id) VALUES (?,?,?,?)\", [f'Book-{i}', i + 20, i+1, book_id])\n",
        "    conn.commit()"
      ],
      "execution_count": 11,
      "outputs": []
    },
    {
      "cell_type": "markdown",
      "metadata": {
        "id": "4IR1OfBvOgGr"
      },
      "source": [
        "*updating book's rate to 3 that thier price < 20*"
      ]
    },
    {
      "cell_type": "code",
      "metadata": {
        "id": "uAmmm-HHOmEa"
      },
      "source": [
        "cur.execute(\"UPDATE books SET rate=? WHERE Price < ?\", [3, 20])\n",
        "conn.commit()"
      ],
      "execution_count": 3,
      "outputs": []
    },
    {
      "cell_type": "markdown",
      "metadata": {
        "id": "1J-KHFFuPNAn"
      },
      "source": [
        "*Deleting all books that have price > 50£ and has rate <= 2*"
      ]
    },
    {
      "cell_type": "code",
      "metadata": {
        "id": "45ufkbflPQ9b"
      },
      "source": [
        "cur.execute(\"DELETE FROM books WHERE price > ? AND rate <= ?\", [50, 2])\n",
        "conn.commit()"
      ],
      "execution_count": null,
      "outputs": []
    },
    {
      "cell_type": "markdown",
      "metadata": {
        "id": "H060nSd3PR4e"
      },
      "source": [
        "*Counting the number of books that have 'Secret' in thier names and price between 10£ and 25£*"
      ]
    },
    {
      "cell_type": "code",
      "metadata": {
        "id": "3vGMMGHNPWgl"
      },
      "source": [
        "cur.execute(\"SELECT COUNT(id) FROM books WHERE title LIKE ? AND price BETWEEN ? AND ?\", ['%Secret%', 10, 25])\n",
        "rows = cur.fetchall()\n",
        "print(rows[0][0])"
      ],
      "execution_count": null,
      "outputs": []
    },
    {
      "cell_type": "markdown",
      "metadata": {
        "id": "CgW51guRPXav"
      },
      "source": [
        "Getting the minimum & maximum price for all the books that have rate 5"
      ]
    },
    {
      "cell_type": "code",
      "metadata": {
        "id": "fSN89jgiPbvv"
      },
      "source": [
        "cur.execute(\"SELECT MAX(price) FROM books WHERE rate = ?\", [5])\n",
        "rows = cur.fetchall()\n",
        "print(rows[0][0])"
      ],
      "execution_count": null,
      "outputs": []
    },
    {
      "cell_type": "markdown",
      "metadata": {
        "id": "YPwKbS-mPc1v"
      },
      "source": [
        "*Calculating the avg price for all the books that have rate 5* \n",
        "\n"
      ]
    },
    {
      "cell_type": "code",
      "metadata": {
        "id": "ETXICU81PiD0"
      },
      "source": [
        "cur.execute(\"SELECT AVG(price) FROM books WHERE rate = ?\", [5])\n",
        "rows = cur.fetchall()\n",
        "print(rows[0][0])"
      ],
      "execution_count": 3,
      "outputs": []
    },
    {
      "cell_type": "markdown",
      "metadata": {
        "id": "dFSVXQqEQMoz"
      },
      "source": [
        "*Sum all book's price that have rate 2 and price between 10 and 40*"
      ]
    },
    {
      "cell_type": "code",
      "metadata": {
        "id": "FqUlbiTCQPhn"
      },
      "source": [
        "cur.execute(\"SELECT SUM(price) FROM books WHERE rate = ? AND price BETWEEN ? AND ?\", [2, 10, 40])\n",
        "rows = cur.fetchall()\n",
        "print(rows[0][0])"
      ],
      "execution_count": null,
      "outputs": []
    },
    {
      "cell_type": "markdown",
      "metadata": {
        "id": "hIc2vQ2sQQNq"
      },
      "source": [
        "*Joining both books & categories table into one new table containing book_name & category_name & book_rate and book_price*"
      ]
    },
    {
      "cell_type": "code",
      "metadata": {
        "id": "bYgKPLxqQUxl"
      },
      "source": [
        "cur.execute(\"SELECT books.title,books.rate,categories.name FROM books INNER JOIN categories WHERE books.category_id = categories.id\", [])\n",
        "rows = cur.fetchall()\n",
        "print(rows)"
      ],
      "execution_count": null,
      "outputs": []
    },
    {
      "cell_type": "markdown",
      "metadata": {
        "id": "xC7_LYL2QY83"
      },
      "source": [
        "*Calculating how many books each rate has and have price between 20£ and 30£*"
      ]
    },
    {
      "cell_type": "code",
      "metadata": {
        "id": "aiPg1GEDQeKR"
      },
      "source": [
        "cur.execute(\"SELECT COUNT(id), rate FROM books WHERE price BETWEEN ? AND ? GROUP BY rate\", [20, 30])\n",
        "rows = cur.fetchall()\n",
        "print(rows)"
      ],
      "execution_count": null,
      "outputs": []
    },
    {
      "cell_type": "markdown",
      "metadata": {
        "id": "3r9PY0EPQfW8"
      },
      "source": [
        "*Calculating how many books each category has having count > 10*"
      ]
    },
    {
      "cell_type": "code",
      "metadata": {
        "id": "BMzZ822bQkNy"
      },
      "source": [
        "cur.execute(\"SELECT COUNT(id) AS CNT, category_id FROM books GROUP BY category_id HAVING CNT > ?\", [10])\n",
        "rows = cur.fetchall()\n",
        "print(rows)"
      ],
      "execution_count": null,
      "outputs": []
    },
    {
      "cell_type": "markdown",
      "metadata": {
        "id": "BF7o-ezEQk5P"
      },
      "source": [
        "*get all books with category_name='Music' using subquery*"
      ]
    },
    {
      "cell_type": "code",
      "metadata": {
        "id": "JLWen9l6QvCE"
      },
      "source": [
        "cur.execute(\"SELECT * FROM categories WHERE name = ?\", ['Music'])\n",
        "rows = cur.fetchall()\n",
        "print(rows)"
      ],
      "execution_count": null,
      "outputs": []
    }
  ]
}
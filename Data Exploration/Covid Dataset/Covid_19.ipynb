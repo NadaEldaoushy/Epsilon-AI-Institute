{
  "nbformat": 4,
  "nbformat_minor": 0,
  "metadata": {
    "colab": {
      "name": "Covid-19.ipynb",
      "provenance": [],
      "collapsed_sections": []
    },
    "kernelspec": {
      "name": "python3",
      "display_name": "Python 3"
    },
    "language_info": {
      "name": "python"
    }
  },
  "cells": [
    {
      "cell_type": "code",
      "metadata": {
        "id": "ZBeIW2Cz2FVV"
      },
      "source": [
        "import pandas as pd\n",
        "import numpy as np\n",
        "import matplotlib as plt\n",
        "import seaborn as sns\n",
        "sns.set(rc={'figure.figsize': [14, 7]}, font_scale=1.2)"
      ],
      "execution_count": 4,
      "outputs": []
    },
    {
      "cell_type": "code",
      "metadata": {
        "id": "ijRMCa292_vG"
      },
      "source": [
        "data = pd.read_csv('covid-19.csv')"
      ],
      "execution_count": 5,
      "outputs": []
    },
    {
      "cell_type": "code",
      "metadata": {
        "colab": {
          "base_uri": "https://localhost:8080/",
          "height": 237
        },
        "id": "8Z45BWSV3C6s",
        "outputId": "e5cb1f9b-2961-4b17-d02d-bcde2df0fc26"
      },
      "source": [
        "data.head()"
      ],
      "execution_count": 6,
      "outputs": [
        {
          "output_type": "execute_result",
          "data": {
            "text/html": [
              "<div>\n",
              "<style scoped>\n",
              "    .dataframe tbody tr th:only-of-type {\n",
              "        vertical-align: middle;\n",
              "    }\n",
              "\n",
              "    .dataframe tbody tr th {\n",
              "        vertical-align: top;\n",
              "    }\n",
              "\n",
              "    .dataframe thead th {\n",
              "        text-align: right;\n",
              "    }\n",
              "</style>\n",
              "<table border=\"1\" class=\"dataframe\">\n",
              "  <thead>\n",
              "    <tr style=\"text-align: right;\">\n",
              "      <th></th>\n",
              "      <th>Country/Region</th>\n",
              "      <th>Confirmed</th>\n",
              "      <th>Deaths</th>\n",
              "      <th>Recovered</th>\n",
              "      <th>Active</th>\n",
              "      <th>New cases</th>\n",
              "      <th>New deaths</th>\n",
              "      <th>New recovered</th>\n",
              "      <th>Deaths / 100 Cases</th>\n",
              "      <th>Recovered / 100 Cases</th>\n",
              "      <th>Deaths / 100 Recovered</th>\n",
              "      <th>Confirmed last week</th>\n",
              "      <th>1 week change</th>\n",
              "      <th>1 week % increase</th>\n",
              "      <th>WHO Region</th>\n",
              "    </tr>\n",
              "  </thead>\n",
              "  <tbody>\n",
              "    <tr>\n",
              "      <th>0</th>\n",
              "      <td>Afghanistan</td>\n",
              "      <td>36263</td>\n",
              "      <td>1269</td>\n",
              "      <td>25198</td>\n",
              "      <td>9796</td>\n",
              "      <td>106</td>\n",
              "      <td>10</td>\n",
              "      <td>18</td>\n",
              "      <td>3.50</td>\n",
              "      <td>69.49</td>\n",
              "      <td>5.04</td>\n",
              "      <td>35526</td>\n",
              "      <td>737</td>\n",
              "      <td>2.07</td>\n",
              "      <td>Eastern Mediterranean</td>\n",
              "    </tr>\n",
              "    <tr>\n",
              "      <th>1</th>\n",
              "      <td>Albania</td>\n",
              "      <td>4880</td>\n",
              "      <td>144</td>\n",
              "      <td>2745</td>\n",
              "      <td>1991</td>\n",
              "      <td>117</td>\n",
              "      <td>6</td>\n",
              "      <td>63</td>\n",
              "      <td>2.95</td>\n",
              "      <td>56.25</td>\n",
              "      <td>5.25</td>\n",
              "      <td>4171</td>\n",
              "      <td>709</td>\n",
              "      <td>17.00</td>\n",
              "      <td>Europe</td>\n",
              "    </tr>\n",
              "    <tr>\n",
              "      <th>2</th>\n",
              "      <td>Algeria</td>\n",
              "      <td>27973</td>\n",
              "      <td>1163</td>\n",
              "      <td>18837</td>\n",
              "      <td>7973</td>\n",
              "      <td>616</td>\n",
              "      <td>8</td>\n",
              "      <td>749</td>\n",
              "      <td>4.16</td>\n",
              "      <td>67.34</td>\n",
              "      <td>6.17</td>\n",
              "      <td>23691</td>\n",
              "      <td>4282</td>\n",
              "      <td>18.07</td>\n",
              "      <td>Africa</td>\n",
              "    </tr>\n",
              "    <tr>\n",
              "      <th>3</th>\n",
              "      <td>Andorra</td>\n",
              "      <td>907</td>\n",
              "      <td>52</td>\n",
              "      <td>803</td>\n",
              "      <td>52</td>\n",
              "      <td>10</td>\n",
              "      <td>0</td>\n",
              "      <td>0</td>\n",
              "      <td>5.73</td>\n",
              "      <td>88.53</td>\n",
              "      <td>6.48</td>\n",
              "      <td>884</td>\n",
              "      <td>23</td>\n",
              "      <td>2.60</td>\n",
              "      <td>Europe</td>\n",
              "    </tr>\n",
              "    <tr>\n",
              "      <th>4</th>\n",
              "      <td>Angola</td>\n",
              "      <td>950</td>\n",
              "      <td>41</td>\n",
              "      <td>242</td>\n",
              "      <td>667</td>\n",
              "      <td>18</td>\n",
              "      <td>1</td>\n",
              "      <td>0</td>\n",
              "      <td>4.32</td>\n",
              "      <td>25.47</td>\n",
              "      <td>16.94</td>\n",
              "      <td>749</td>\n",
              "      <td>201</td>\n",
              "      <td>26.84</td>\n",
              "      <td>Africa</td>\n",
              "    </tr>\n",
              "  </tbody>\n",
              "</table>\n",
              "</div>"
            ],
            "text/plain": [
              "  Country/Region  Confirmed  ...  1 week % increase             WHO Region\n",
              "0    Afghanistan      36263  ...               2.07  Eastern Mediterranean\n",
              "1        Albania       4880  ...              17.00                 Europe\n",
              "2        Algeria      27973  ...              18.07                 Africa\n",
              "3        Andorra        907  ...               2.60                 Europe\n",
              "4         Angola        950  ...              26.84                 Africa\n",
              "\n",
              "[5 rows x 15 columns]"
            ]
          },
          "metadata": {},
          "execution_count": 6
        }
      ]
    },
    {
      "cell_type": "code",
      "metadata": {
        "colab": {
          "base_uri": "https://localhost:8080/",
          "height": 254
        },
        "id": "ZFaK_ze-3FWU",
        "outputId": "8a9a6c4e-b845-489a-e958-58e75cc9fb13"
      },
      "source": [
        "data.tail()"
      ],
      "execution_count": 7,
      "outputs": [
        {
          "output_type": "execute_result",
          "data": {
            "text/html": [
              "<div>\n",
              "<style scoped>\n",
              "    .dataframe tbody tr th:only-of-type {\n",
              "        vertical-align: middle;\n",
              "    }\n",
              "\n",
              "    .dataframe tbody tr th {\n",
              "        vertical-align: top;\n",
              "    }\n",
              "\n",
              "    .dataframe thead th {\n",
              "        text-align: right;\n",
              "    }\n",
              "</style>\n",
              "<table border=\"1\" class=\"dataframe\">\n",
              "  <thead>\n",
              "    <tr style=\"text-align: right;\">\n",
              "      <th></th>\n",
              "      <th>Country/Region</th>\n",
              "      <th>Confirmed</th>\n",
              "      <th>Deaths</th>\n",
              "      <th>Recovered</th>\n",
              "      <th>Active</th>\n",
              "      <th>New cases</th>\n",
              "      <th>New deaths</th>\n",
              "      <th>New recovered</th>\n",
              "      <th>Deaths / 100 Cases</th>\n",
              "      <th>Recovered / 100 Cases</th>\n",
              "      <th>Deaths / 100 Recovered</th>\n",
              "      <th>Confirmed last week</th>\n",
              "      <th>1 week change</th>\n",
              "      <th>1 week % increase</th>\n",
              "      <th>WHO Region</th>\n",
              "    </tr>\n",
              "  </thead>\n",
              "  <tbody>\n",
              "    <tr>\n",
              "      <th>182</th>\n",
              "      <td>West Bank and Gaza</td>\n",
              "      <td>10621</td>\n",
              "      <td>78</td>\n",
              "      <td>3752</td>\n",
              "      <td>6791</td>\n",
              "      <td>152</td>\n",
              "      <td>2</td>\n",
              "      <td>0</td>\n",
              "      <td>0.73</td>\n",
              "      <td>35.33</td>\n",
              "      <td>2.08</td>\n",
              "      <td>8916</td>\n",
              "      <td>1705</td>\n",
              "      <td>19.12</td>\n",
              "      <td>Eastern Mediterranean</td>\n",
              "    </tr>\n",
              "    <tr>\n",
              "      <th>183</th>\n",
              "      <td>Western Sahara</td>\n",
              "      <td>10</td>\n",
              "      <td>1</td>\n",
              "      <td>8</td>\n",
              "      <td>1</td>\n",
              "      <td>0</td>\n",
              "      <td>0</td>\n",
              "      <td>0</td>\n",
              "      <td>10.00</td>\n",
              "      <td>80.00</td>\n",
              "      <td>12.50</td>\n",
              "      <td>10</td>\n",
              "      <td>0</td>\n",
              "      <td>0.00</td>\n",
              "      <td>Africa</td>\n",
              "    </tr>\n",
              "    <tr>\n",
              "      <th>184</th>\n",
              "      <td>Yemen</td>\n",
              "      <td>1691</td>\n",
              "      <td>483</td>\n",
              "      <td>833</td>\n",
              "      <td>375</td>\n",
              "      <td>10</td>\n",
              "      <td>4</td>\n",
              "      <td>36</td>\n",
              "      <td>28.56</td>\n",
              "      <td>49.26</td>\n",
              "      <td>57.98</td>\n",
              "      <td>1619</td>\n",
              "      <td>72</td>\n",
              "      <td>4.45</td>\n",
              "      <td>Eastern Mediterranean</td>\n",
              "    </tr>\n",
              "    <tr>\n",
              "      <th>185</th>\n",
              "      <td>Zambia</td>\n",
              "      <td>4552</td>\n",
              "      <td>140</td>\n",
              "      <td>2815</td>\n",
              "      <td>1597</td>\n",
              "      <td>71</td>\n",
              "      <td>1</td>\n",
              "      <td>465</td>\n",
              "      <td>3.08</td>\n",
              "      <td>61.84</td>\n",
              "      <td>4.97</td>\n",
              "      <td>3326</td>\n",
              "      <td>1226</td>\n",
              "      <td>36.86</td>\n",
              "      <td>Africa</td>\n",
              "    </tr>\n",
              "    <tr>\n",
              "      <th>186</th>\n",
              "      <td>Zimbabwe</td>\n",
              "      <td>2704</td>\n",
              "      <td>36</td>\n",
              "      <td>542</td>\n",
              "      <td>2126</td>\n",
              "      <td>192</td>\n",
              "      <td>2</td>\n",
              "      <td>24</td>\n",
              "      <td>1.33</td>\n",
              "      <td>20.04</td>\n",
              "      <td>6.64</td>\n",
              "      <td>1713</td>\n",
              "      <td>991</td>\n",
              "      <td>57.85</td>\n",
              "      <td>Africa</td>\n",
              "    </tr>\n",
              "  </tbody>\n",
              "</table>\n",
              "</div>"
            ],
            "text/plain": [
              "         Country/Region  Confirmed  ...  1 week % increase             WHO Region\n",
              "182  West Bank and Gaza      10621  ...              19.12  Eastern Mediterranean\n",
              "183      Western Sahara         10  ...               0.00                 Africa\n",
              "184               Yemen       1691  ...               4.45  Eastern Mediterranean\n",
              "185              Zambia       4552  ...              36.86                 Africa\n",
              "186            Zimbabwe       2704  ...              57.85                 Africa\n",
              "\n",
              "[5 rows x 15 columns]"
            ]
          },
          "metadata": {},
          "execution_count": 7
        }
      ]
    },
    {
      "cell_type": "code",
      "metadata": {
        "colab": {
          "base_uri": "https://localhost:8080/",
          "height": 329
        },
        "id": "sxIdKES53G5g",
        "outputId": "599063ad-ff89-49c6-abfa-276d68512e95"
      },
      "source": [
        "data.describe()"
      ],
      "execution_count": 8,
      "outputs": [
        {
          "output_type": "execute_result",
          "data": {
            "text/html": [
              "<div>\n",
              "<style scoped>\n",
              "    .dataframe tbody tr th:only-of-type {\n",
              "        vertical-align: middle;\n",
              "    }\n",
              "\n",
              "    .dataframe tbody tr th {\n",
              "        vertical-align: top;\n",
              "    }\n",
              "\n",
              "    .dataframe thead th {\n",
              "        text-align: right;\n",
              "    }\n",
              "</style>\n",
              "<table border=\"1\" class=\"dataframe\">\n",
              "  <thead>\n",
              "    <tr style=\"text-align: right;\">\n",
              "      <th></th>\n",
              "      <th>Confirmed</th>\n",
              "      <th>Deaths</th>\n",
              "      <th>Recovered</th>\n",
              "      <th>Active</th>\n",
              "      <th>New cases</th>\n",
              "      <th>New deaths</th>\n",
              "      <th>New recovered</th>\n",
              "      <th>Deaths / 100 Cases</th>\n",
              "      <th>Recovered / 100 Cases</th>\n",
              "      <th>Deaths / 100 Recovered</th>\n",
              "      <th>Confirmed last week</th>\n",
              "      <th>1 week change</th>\n",
              "      <th>1 week % increase</th>\n",
              "    </tr>\n",
              "  </thead>\n",
              "  <tbody>\n",
              "    <tr>\n",
              "      <th>count</th>\n",
              "      <td>1.870000e+02</td>\n",
              "      <td>187.000000</td>\n",
              "      <td>1.870000e+02</td>\n",
              "      <td>1.870000e+02</td>\n",
              "      <td>187.000000</td>\n",
              "      <td>187.000000</td>\n",
              "      <td>187.000000</td>\n",
              "      <td>187.000000</td>\n",
              "      <td>187.000000</td>\n",
              "      <td>187.00</td>\n",
              "      <td>1.870000e+02</td>\n",
              "      <td>187.000000</td>\n",
              "      <td>187.000000</td>\n",
              "    </tr>\n",
              "    <tr>\n",
              "      <th>mean</th>\n",
              "      <td>8.813094e+04</td>\n",
              "      <td>3497.518717</td>\n",
              "      <td>5.063148e+04</td>\n",
              "      <td>3.400194e+04</td>\n",
              "      <td>1222.957219</td>\n",
              "      <td>28.957219</td>\n",
              "      <td>933.812834</td>\n",
              "      <td>3.019519</td>\n",
              "      <td>64.820535</td>\n",
              "      <td>inf</td>\n",
              "      <td>7.868248e+04</td>\n",
              "      <td>9448.459893</td>\n",
              "      <td>13.606203</td>\n",
              "    </tr>\n",
              "    <tr>\n",
              "      <th>std</th>\n",
              "      <td>3.833187e+05</td>\n",
              "      <td>14100.002482</td>\n",
              "      <td>1.901882e+05</td>\n",
              "      <td>2.133262e+05</td>\n",
              "      <td>5710.374790</td>\n",
              "      <td>120.037173</td>\n",
              "      <td>4197.719635</td>\n",
              "      <td>3.454302</td>\n",
              "      <td>26.287694</td>\n",
              "      <td>NaN</td>\n",
              "      <td>3.382737e+05</td>\n",
              "      <td>47491.127684</td>\n",
              "      <td>24.509838</td>\n",
              "    </tr>\n",
              "    <tr>\n",
              "      <th>min</th>\n",
              "      <td>1.000000e+01</td>\n",
              "      <td>0.000000</td>\n",
              "      <td>0.000000e+00</td>\n",
              "      <td>0.000000e+00</td>\n",
              "      <td>0.000000</td>\n",
              "      <td>0.000000</td>\n",
              "      <td>0.000000</td>\n",
              "      <td>0.000000</td>\n",
              "      <td>0.000000</td>\n",
              "      <td>0.00</td>\n",
              "      <td>1.000000e+01</td>\n",
              "      <td>-47.000000</td>\n",
              "      <td>-3.840000</td>\n",
              "    </tr>\n",
              "    <tr>\n",
              "      <th>25%</th>\n",
              "      <td>1.114000e+03</td>\n",
              "      <td>18.500000</td>\n",
              "      <td>6.265000e+02</td>\n",
              "      <td>1.415000e+02</td>\n",
              "      <td>4.000000</td>\n",
              "      <td>0.000000</td>\n",
              "      <td>0.000000</td>\n",
              "      <td>0.945000</td>\n",
              "      <td>48.770000</td>\n",
              "      <td>1.45</td>\n",
              "      <td>1.051500e+03</td>\n",
              "      <td>49.000000</td>\n",
              "      <td>2.775000</td>\n",
              "    </tr>\n",
              "    <tr>\n",
              "      <th>50%</th>\n",
              "      <td>5.059000e+03</td>\n",
              "      <td>108.000000</td>\n",
              "      <td>2.815000e+03</td>\n",
              "      <td>1.600000e+03</td>\n",
              "      <td>49.000000</td>\n",
              "      <td>1.000000</td>\n",
              "      <td>22.000000</td>\n",
              "      <td>2.150000</td>\n",
              "      <td>71.320000</td>\n",
              "      <td>3.62</td>\n",
              "      <td>5.020000e+03</td>\n",
              "      <td>432.000000</td>\n",
              "      <td>6.890000</td>\n",
              "    </tr>\n",
              "    <tr>\n",
              "      <th>75%</th>\n",
              "      <td>4.046050e+04</td>\n",
              "      <td>734.000000</td>\n",
              "      <td>2.260600e+04</td>\n",
              "      <td>9.149000e+03</td>\n",
              "      <td>419.500000</td>\n",
              "      <td>6.000000</td>\n",
              "      <td>221.000000</td>\n",
              "      <td>3.875000</td>\n",
              "      <td>86.885000</td>\n",
              "      <td>6.44</td>\n",
              "      <td>3.708050e+04</td>\n",
              "      <td>3172.000000</td>\n",
              "      <td>16.855000</td>\n",
              "    </tr>\n",
              "    <tr>\n",
              "      <th>max</th>\n",
              "      <td>4.290259e+06</td>\n",
              "      <td>148011.000000</td>\n",
              "      <td>1.846641e+06</td>\n",
              "      <td>2.816444e+06</td>\n",
              "      <td>56336.000000</td>\n",
              "      <td>1076.000000</td>\n",
              "      <td>33728.000000</td>\n",
              "      <td>28.560000</td>\n",
              "      <td>100.000000</td>\n",
              "      <td>inf</td>\n",
              "      <td>3.834677e+06</td>\n",
              "      <td>455582.000000</td>\n",
              "      <td>226.320000</td>\n",
              "    </tr>\n",
              "  </tbody>\n",
              "</table>\n",
              "</div>"
            ],
            "text/plain": [
              "          Confirmed         Deaths  ...  1 week change  1 week % increase\n",
              "count  1.870000e+02     187.000000  ...     187.000000         187.000000\n",
              "mean   8.813094e+04    3497.518717  ...    9448.459893          13.606203\n",
              "std    3.833187e+05   14100.002482  ...   47491.127684          24.509838\n",
              "min    1.000000e+01       0.000000  ...     -47.000000          -3.840000\n",
              "25%    1.114000e+03      18.500000  ...      49.000000           2.775000\n",
              "50%    5.059000e+03     108.000000  ...     432.000000           6.890000\n",
              "75%    4.046050e+04     734.000000  ...    3172.000000          16.855000\n",
              "max    4.290259e+06  148011.000000  ...  455582.000000         226.320000\n",
              "\n",
              "[8 rows x 13 columns]"
            ]
          },
          "metadata": {},
          "execution_count": 8
        }
      ]
    },
    {
      "cell_type": "code",
      "metadata": {
        "id": "pdYZh2lH3JSI",
        "colab": {
          "base_uri": "https://localhost:8080/"
        },
        "outputId": "1cbfaf7b-05c1-49e8-c28b-cd90f427e7c8"
      },
      "source": [
        "data['Confirmed'].max()"
      ],
      "execution_count": 17,
      "outputs": [
        {
          "output_type": "execute_result",
          "data": {
            "text/plain": [
              "4290259"
            ]
          },
          "metadata": {},
          "execution_count": 17
        }
      ]
    },
    {
      "cell_type": "code",
      "metadata": {
        "colab": {
          "base_uri": "https://localhost:8080/"
        },
        "id": "-_5mhaafmW7y",
        "outputId": "ce5c43c9-4090-4ef2-928c-f3883ab6e74d"
      },
      "source": [
        "data['Confirmed'].min()"
      ],
      "execution_count": 18,
      "outputs": [
        {
          "output_type": "execute_result",
          "data": {
            "text/plain": [
              "10"
            ]
          },
          "metadata": {},
          "execution_count": 18
        }
      ]
    },
    {
      "cell_type": "code",
      "metadata": {
        "colab": {
          "base_uri": "https://localhost:8080/"
        },
        "id": "CZUIjnjJn8vp",
        "outputId": "d45d923a-2210-42d9-e155-b2c823a527ff"
      },
      "source": [
        "data['Recovered'].max()"
      ],
      "execution_count": 19,
      "outputs": [
        {
          "output_type": "execute_result",
          "data": {
            "text/plain": [
              "1846641"
            ]
          },
          "metadata": {},
          "execution_count": 19
        }
      ]
    },
    {
      "cell_type": "code",
      "metadata": {
        "colab": {
          "base_uri": "https://localhost:8080/"
        },
        "id": "_VAQNt0Un9IO",
        "outputId": "fccd1804-0608-447c-f856-eb7e80fa35f8"
      },
      "source": [
        "data['Recovered'].min()"
      ],
      "execution_count": 20,
      "outputs": [
        {
          "output_type": "execute_result",
          "data": {
            "text/plain": [
              "0"
            ]
          },
          "metadata": {},
          "execution_count": 20
        }
      ]
    },
    {
      "cell_type": "code",
      "metadata": {
        "colab": {
          "base_uri": "https://localhost:8080/"
        },
        "id": "RFdAr73XmvZk",
        "outputId": "3187b401-f12c-4b74-82e1-f61dd4842f7c"
      },
      "source": [
        "data['Deaths'].max()"
      ],
      "execution_count": 11,
      "outputs": [
        {
          "output_type": "execute_result",
          "data": {
            "text/plain": [
              "148011"
            ]
          },
          "metadata": {},
          "execution_count": 11
        }
      ]
    },
    {
      "cell_type": "code",
      "metadata": {
        "colab": {
          "base_uri": "https://localhost:8080/"
        },
        "id": "TAkMfnivm0hb",
        "outputId": "8a647217-e489-498b-857c-adb2202cc874"
      },
      "source": [
        "data['Deaths'].min()"
      ],
      "execution_count": 25,
      "outputs": [
        {
          "output_type": "execute_result",
          "data": {
            "text/plain": [
              "0"
            ]
          },
          "metadata": {},
          "execution_count": 25
        }
      ]
    },
    {
      "cell_type": "code",
      "metadata": {
        "colab": {
          "base_uri": "https://localhost:8080/"
        },
        "id": "s_t0lU1NoIpS",
        "outputId": "6e6852a3-3e8a-428b-dd8a-c88236da7e08"
      },
      "source": [
        "data['Active'].max()"
      ],
      "execution_count": 26,
      "outputs": [
        {
          "output_type": "execute_result",
          "data": {
            "text/plain": [
              "2816444"
            ]
          },
          "metadata": {},
          "execution_count": 26
        }
      ]
    },
    {
      "cell_type": "code",
      "metadata": {
        "colab": {
          "base_uri": "https://localhost:8080/"
        },
        "id": "GyvEbXNwnb4Z",
        "outputId": "dce7db7a-88de-4924-c296-815768c6afba"
      },
      "source": [
        "data['Active'].min()"
      ],
      "execution_count": 27,
      "outputs": [
        {
          "output_type": "execute_result",
          "data": {
            "text/plain": [
              "0"
            ]
          },
          "metadata": {},
          "execution_count": 27
        }
      ]
    },
    {
      "cell_type": "code",
      "metadata": {
        "colab": {
          "base_uri": "https://localhost:8080/"
        },
        "id": "1HeR4xrvncEu",
        "outputId": "402f06ee-651a-4a98-d031-02f96008d56f"
      },
      "source": [
        "data[data['Confirmed']==data['Confirmed'].max()]['Country/Region']"
      ],
      "execution_count": 28,
      "outputs": [
        {
          "output_type": "execute_result",
          "data": {
            "text/plain": [
              "173    US\n",
              "Name: Country/Region, dtype: object"
            ]
          },
          "metadata": {},
          "execution_count": 28
        }
      ]
    },
    {
      "cell_type": "code",
      "metadata": {
        "colab": {
          "base_uri": "https://localhost:8080/"
        },
        "id": "oWFOKochm363",
        "outputId": "eecd920a-30ec-4c67-f17a-6360d43443e4"
      },
      "source": [
        "data[data['Deaths']==data['Deaths'].max()]['Country/Region']"
      ],
      "execution_count": 29,
      "outputs": [
        {
          "output_type": "execute_result",
          "data": {
            "text/plain": [
              "173    US\n",
              "Name: Country/Region, dtype: object"
            ]
          },
          "metadata": {},
          "execution_count": 29
        }
      ]
    },
    {
      "cell_type": "code",
      "metadata": {
        "colab": {
          "base_uri": "https://localhost:8080/"
        },
        "id": "3shQNAq0nQ_3",
        "outputId": "249617c9-34ed-4c3e-b6f3-ce8ca9e05759"
      },
      "source": [
        "data[data['Recovered']==data['Recovered'].max()]['Country/Region']"
      ],
      "execution_count": 30,
      "outputs": [
        {
          "output_type": "execute_result",
          "data": {
            "text/plain": [
              "23    Brazil\n",
              "Name: Country/Region, dtype: object"
            ]
          },
          "metadata": {},
          "execution_count": 30
        }
      ]
    },
    {
      "cell_type": "code",
      "metadata": {
        "colab": {
          "base_uri": "https://localhost:8080/"
        },
        "id": "u99Mc4lZnStt",
        "outputId": "8e29a0a6-8f45-4dd1-b622-24bcb6c2af46"
      },
      "source": [
        "data[data['Active']==data['Active'].max()]['Country/Region']"
      ],
      "execution_count": 31,
      "outputs": [
        {
          "output_type": "execute_result",
          "data": {
            "text/plain": [
              "173    US\n",
              "Name: Country/Region, dtype: object"
            ]
          },
          "metadata": {},
          "execution_count": 31
        }
      ]
    },
    {
      "cell_type": "code",
      "metadata": {
        "colab": {
          "base_uri": "https://localhost:8080/",
          "height": 267
        },
        "id": "qU9nW7klouSA",
        "outputId": "630c9a1b-6c52-41d5-cd29-51a9b1d66c82"
      },
      "source": [
        "regions_covid = data.groupby('WHO Region',as_index = False).sum()\n",
        "regions_covid"
      ],
      "execution_count": 34,
      "outputs": [
        {
          "output_type": "execute_result",
          "data": {
            "text/html": [
              "<div>\n",
              "<style scoped>\n",
              "    .dataframe tbody tr th:only-of-type {\n",
              "        vertical-align: middle;\n",
              "    }\n",
              "\n",
              "    .dataframe tbody tr th {\n",
              "        vertical-align: top;\n",
              "    }\n",
              "\n",
              "    .dataframe thead th {\n",
              "        text-align: right;\n",
              "    }\n",
              "</style>\n",
              "<table border=\"1\" class=\"dataframe\">\n",
              "  <thead>\n",
              "    <tr style=\"text-align: right;\">\n",
              "      <th></th>\n",
              "      <th>WHO Region</th>\n",
              "      <th>Confirmed</th>\n",
              "      <th>Deaths</th>\n",
              "      <th>Recovered</th>\n",
              "      <th>Active</th>\n",
              "      <th>New cases</th>\n",
              "      <th>New deaths</th>\n",
              "      <th>New recovered</th>\n",
              "      <th>Deaths / 100 Cases</th>\n",
              "      <th>Recovered / 100 Cases</th>\n",
              "      <th>Deaths / 100 Recovered</th>\n",
              "      <th>Confirmed last week</th>\n",
              "      <th>1 week change</th>\n",
              "      <th>1 week % increase</th>\n",
              "    </tr>\n",
              "  </thead>\n",
              "  <tbody>\n",
              "    <tr>\n",
              "      <th>0</th>\n",
              "      <td>Africa</td>\n",
              "      <td>723207</td>\n",
              "      <td>12223</td>\n",
              "      <td>440645</td>\n",
              "      <td>270339</td>\n",
              "      <td>12176</td>\n",
              "      <td>353</td>\n",
              "      <td>14563</td>\n",
              "      <td>110.71</td>\n",
              "      <td>2736.71</td>\n",
              "      <td>inf</td>\n",
              "      <td>608120</td>\n",
              "      <td>115087</td>\n",
              "      <td>868.15</td>\n",
              "    </tr>\n",
              "    <tr>\n",
              "      <th>1</th>\n",
              "      <td>Americas</td>\n",
              "      <td>8839286</td>\n",
              "      <td>342732</td>\n",
              "      <td>4468616</td>\n",
              "      <td>4027938</td>\n",
              "      <td>129531</td>\n",
              "      <td>3555</td>\n",
              "      <td>94776</td>\n",
              "      <td>106.84</td>\n",
              "      <td>2180.20</td>\n",
              "      <td>inf</td>\n",
              "      <td>7815198</td>\n",
              "      <td>1024088</td>\n",
              "      <td>571.59</td>\n",
              "    </tr>\n",
              "    <tr>\n",
              "      <th>2</th>\n",
              "      <td>Eastern Mediterranean</td>\n",
              "      <td>1490744</td>\n",
              "      <td>38339</td>\n",
              "      <td>1201400</td>\n",
              "      <td>251005</td>\n",
              "      <td>12410</td>\n",
              "      <td>445</td>\n",
              "      <td>14843</td>\n",
              "      <td>78.39</td>\n",
              "      <td>1465.05</td>\n",
              "      <td>inf</td>\n",
              "      <td>1398847</td>\n",
              "      <td>91897</td>\n",
              "      <td>230.61</td>\n",
              "    </tr>\n",
              "    <tr>\n",
              "      <th>3</th>\n",
              "      <td>Europe</td>\n",
              "      <td>3299523</td>\n",
              "      <td>211144</td>\n",
              "      <td>1993723</td>\n",
              "      <td>1094656</td>\n",
              "      <td>22294</td>\n",
              "      <td>304</td>\n",
              "      <td>11732</td>\n",
              "      <td>235.11</td>\n",
              "      <td>3843.56</td>\n",
              "      <td>inf</td>\n",
              "      <td>3146816</td>\n",
              "      <td>152707</td>\n",
              "      <td>435.10</td>\n",
              "    </tr>\n",
              "    <tr>\n",
              "      <th>4</th>\n",
              "      <td>South-East Asia</td>\n",
              "      <td>1835297</td>\n",
              "      <td>41349</td>\n",
              "      <td>1156933</td>\n",
              "      <td>637015</td>\n",
              "      <td>48993</td>\n",
              "      <td>734</td>\n",
              "      <td>37582</td>\n",
              "      <td>12.96</td>\n",
              "      <td>667.04</td>\n",
              "      <td>19.56</td>\n",
              "      <td>1478283</td>\n",
              "      <td>357014</td>\n",
              "      <td>85.13</td>\n",
              "    </tr>\n",
              "    <tr>\n",
              "      <th>5</th>\n",
              "      <td>Western Pacific</td>\n",
              "      <td>292428</td>\n",
              "      <td>8249</td>\n",
              "      <td>206770</td>\n",
              "      <td>77409</td>\n",
              "      <td>3289</td>\n",
              "      <td>24</td>\n",
              "      <td>1127</td>\n",
              "      <td>20.64</td>\n",
              "      <td>1228.88</td>\n",
              "      <td>28.60</td>\n",
              "      <td>266359</td>\n",
              "      <td>26069</td>\n",
              "      <td>353.78</td>\n",
              "    </tr>\n",
              "  </tbody>\n",
              "</table>\n",
              "</div>"
            ],
            "text/plain": [
              "              WHO Region  Confirmed  ...  1 week change  1 week % increase\n",
              "0                 Africa     723207  ...         115087             868.15\n",
              "1               Americas    8839286  ...        1024088             571.59\n",
              "2  Eastern Mediterranean    1490744  ...          91897             230.61\n",
              "3                 Europe    3299523  ...         152707             435.10\n",
              "4        South-East Asia    1835297  ...         357014              85.13\n",
              "5        Western Pacific     292428  ...          26069             353.78\n",
              "\n",
              "[6 rows x 14 columns]"
            ]
          },
          "metadata": {},
          "execution_count": 34
        }
      ]
    },
    {
      "cell_type": "code",
      "metadata": {
        "colab": {
          "base_uri": "https://localhost:8080/",
          "height": 267
        },
        "id": "pyvsYKtJpdE2",
        "outputId": "5139c37e-9639-4aa9-d5d1-307b27e6a73b"
      },
      "source": [
        "regions_covid.sort_values(by='Recovered')"
      ],
      "execution_count": 35,
      "outputs": [
        {
          "output_type": "execute_result",
          "data": {
            "text/html": [
              "<div>\n",
              "<style scoped>\n",
              "    .dataframe tbody tr th:only-of-type {\n",
              "        vertical-align: middle;\n",
              "    }\n",
              "\n",
              "    .dataframe tbody tr th {\n",
              "        vertical-align: top;\n",
              "    }\n",
              "\n",
              "    .dataframe thead th {\n",
              "        text-align: right;\n",
              "    }\n",
              "</style>\n",
              "<table border=\"1\" class=\"dataframe\">\n",
              "  <thead>\n",
              "    <tr style=\"text-align: right;\">\n",
              "      <th></th>\n",
              "      <th>WHO Region</th>\n",
              "      <th>Confirmed</th>\n",
              "      <th>Deaths</th>\n",
              "      <th>Recovered</th>\n",
              "      <th>Active</th>\n",
              "      <th>New cases</th>\n",
              "      <th>New deaths</th>\n",
              "      <th>New recovered</th>\n",
              "      <th>Deaths / 100 Cases</th>\n",
              "      <th>Recovered / 100 Cases</th>\n",
              "      <th>Deaths / 100 Recovered</th>\n",
              "      <th>Confirmed last week</th>\n",
              "      <th>1 week change</th>\n",
              "      <th>1 week % increase</th>\n",
              "    </tr>\n",
              "  </thead>\n",
              "  <tbody>\n",
              "    <tr>\n",
              "      <th>5</th>\n",
              "      <td>Western Pacific</td>\n",
              "      <td>292428</td>\n",
              "      <td>8249</td>\n",
              "      <td>206770</td>\n",
              "      <td>77409</td>\n",
              "      <td>3289</td>\n",
              "      <td>24</td>\n",
              "      <td>1127</td>\n",
              "      <td>20.64</td>\n",
              "      <td>1228.88</td>\n",
              "      <td>28.60</td>\n",
              "      <td>266359</td>\n",
              "      <td>26069</td>\n",
              "      <td>353.78</td>\n",
              "    </tr>\n",
              "    <tr>\n",
              "      <th>0</th>\n",
              "      <td>Africa</td>\n",
              "      <td>723207</td>\n",
              "      <td>12223</td>\n",
              "      <td>440645</td>\n",
              "      <td>270339</td>\n",
              "      <td>12176</td>\n",
              "      <td>353</td>\n",
              "      <td>14563</td>\n",
              "      <td>110.71</td>\n",
              "      <td>2736.71</td>\n",
              "      <td>inf</td>\n",
              "      <td>608120</td>\n",
              "      <td>115087</td>\n",
              "      <td>868.15</td>\n",
              "    </tr>\n",
              "    <tr>\n",
              "      <th>4</th>\n",
              "      <td>South-East Asia</td>\n",
              "      <td>1835297</td>\n",
              "      <td>41349</td>\n",
              "      <td>1156933</td>\n",
              "      <td>637015</td>\n",
              "      <td>48993</td>\n",
              "      <td>734</td>\n",
              "      <td>37582</td>\n",
              "      <td>12.96</td>\n",
              "      <td>667.04</td>\n",
              "      <td>19.56</td>\n",
              "      <td>1478283</td>\n",
              "      <td>357014</td>\n",
              "      <td>85.13</td>\n",
              "    </tr>\n",
              "    <tr>\n",
              "      <th>2</th>\n",
              "      <td>Eastern Mediterranean</td>\n",
              "      <td>1490744</td>\n",
              "      <td>38339</td>\n",
              "      <td>1201400</td>\n",
              "      <td>251005</td>\n",
              "      <td>12410</td>\n",
              "      <td>445</td>\n",
              "      <td>14843</td>\n",
              "      <td>78.39</td>\n",
              "      <td>1465.05</td>\n",
              "      <td>inf</td>\n",
              "      <td>1398847</td>\n",
              "      <td>91897</td>\n",
              "      <td>230.61</td>\n",
              "    </tr>\n",
              "    <tr>\n",
              "      <th>3</th>\n",
              "      <td>Europe</td>\n",
              "      <td>3299523</td>\n",
              "      <td>211144</td>\n",
              "      <td>1993723</td>\n",
              "      <td>1094656</td>\n",
              "      <td>22294</td>\n",
              "      <td>304</td>\n",
              "      <td>11732</td>\n",
              "      <td>235.11</td>\n",
              "      <td>3843.56</td>\n",
              "      <td>inf</td>\n",
              "      <td>3146816</td>\n",
              "      <td>152707</td>\n",
              "      <td>435.10</td>\n",
              "    </tr>\n",
              "    <tr>\n",
              "      <th>1</th>\n",
              "      <td>Americas</td>\n",
              "      <td>8839286</td>\n",
              "      <td>342732</td>\n",
              "      <td>4468616</td>\n",
              "      <td>4027938</td>\n",
              "      <td>129531</td>\n",
              "      <td>3555</td>\n",
              "      <td>94776</td>\n",
              "      <td>106.84</td>\n",
              "      <td>2180.20</td>\n",
              "      <td>inf</td>\n",
              "      <td>7815198</td>\n",
              "      <td>1024088</td>\n",
              "      <td>571.59</td>\n",
              "    </tr>\n",
              "  </tbody>\n",
              "</table>\n",
              "</div>"
            ],
            "text/plain": [
              "              WHO Region  Confirmed  ...  1 week change  1 week % increase\n",
              "5        Western Pacific     292428  ...          26069             353.78\n",
              "0                 Africa     723207  ...         115087             868.15\n",
              "4        South-East Asia    1835297  ...         357014              85.13\n",
              "2  Eastern Mediterranean    1490744  ...          91897             230.61\n",
              "3                 Europe    3299523  ...         152707             435.10\n",
              "1               Americas    8839286  ...        1024088             571.59\n",
              "\n",
              "[6 rows x 14 columns]"
            ]
          },
          "metadata": {},
          "execution_count": 35
        }
      ]
    },
    {
      "cell_type": "code",
      "metadata": {
        "colab": {
          "base_uri": "https://localhost:8080/",
          "height": 234
        },
        "id": "Nfzw4n14p3a1",
        "outputId": "9babdfb7-be51-4c2b-fb64-bd063c7e497a"
      },
      "source": [
        "regions_covid[['WHO Region','Deaths']].sort_values(by='Deaths')"
      ],
      "execution_count": 39,
      "outputs": [
        {
          "output_type": "execute_result",
          "data": {
            "text/html": [
              "<div>\n",
              "<style scoped>\n",
              "    .dataframe tbody tr th:only-of-type {\n",
              "        vertical-align: middle;\n",
              "    }\n",
              "\n",
              "    .dataframe tbody tr th {\n",
              "        vertical-align: top;\n",
              "    }\n",
              "\n",
              "    .dataframe thead th {\n",
              "        text-align: right;\n",
              "    }\n",
              "</style>\n",
              "<table border=\"1\" class=\"dataframe\">\n",
              "  <thead>\n",
              "    <tr style=\"text-align: right;\">\n",
              "      <th></th>\n",
              "      <th>WHO Region</th>\n",
              "      <th>Deaths</th>\n",
              "    </tr>\n",
              "  </thead>\n",
              "  <tbody>\n",
              "    <tr>\n",
              "      <th>5</th>\n",
              "      <td>Western Pacific</td>\n",
              "      <td>8249</td>\n",
              "    </tr>\n",
              "    <tr>\n",
              "      <th>0</th>\n",
              "      <td>Africa</td>\n",
              "      <td>12223</td>\n",
              "    </tr>\n",
              "    <tr>\n",
              "      <th>2</th>\n",
              "      <td>Eastern Mediterranean</td>\n",
              "      <td>38339</td>\n",
              "    </tr>\n",
              "    <tr>\n",
              "      <th>4</th>\n",
              "      <td>South-East Asia</td>\n",
              "      <td>41349</td>\n",
              "    </tr>\n",
              "    <tr>\n",
              "      <th>3</th>\n",
              "      <td>Europe</td>\n",
              "      <td>211144</td>\n",
              "    </tr>\n",
              "    <tr>\n",
              "      <th>1</th>\n",
              "      <td>Americas</td>\n",
              "      <td>342732</td>\n",
              "    </tr>\n",
              "  </tbody>\n",
              "</table>\n",
              "</div>"
            ],
            "text/plain": [
              "              WHO Region  Deaths\n",
              "5        Western Pacific    8249\n",
              "0                 Africa   12223\n",
              "2  Eastern Mediterranean   38339\n",
              "4        South-East Asia   41349\n",
              "3                 Europe  211144\n",
              "1               Americas  342732"
            ]
          },
          "metadata": {},
          "execution_count": 39
        }
      ]
    },
    {
      "cell_type": "code",
      "metadata": {
        "colab": {
          "base_uri": "https://localhost:8080/",
          "height": 234
        },
        "id": "hdW1ozXBqDqo",
        "outputId": "6bc772d2-5dd5-491a-bba2-52a406ae7a36"
      },
      "source": [
        "regions_covid[['WHO Region','Recovered']].sort_values(by='Recovered')"
      ],
      "execution_count": 40,
      "outputs": [
        {
          "output_type": "execute_result",
          "data": {
            "text/html": [
              "<div>\n",
              "<style scoped>\n",
              "    .dataframe tbody tr th:only-of-type {\n",
              "        vertical-align: middle;\n",
              "    }\n",
              "\n",
              "    .dataframe tbody tr th {\n",
              "        vertical-align: top;\n",
              "    }\n",
              "\n",
              "    .dataframe thead th {\n",
              "        text-align: right;\n",
              "    }\n",
              "</style>\n",
              "<table border=\"1\" class=\"dataframe\">\n",
              "  <thead>\n",
              "    <tr style=\"text-align: right;\">\n",
              "      <th></th>\n",
              "      <th>WHO Region</th>\n",
              "      <th>Recovered</th>\n",
              "    </tr>\n",
              "  </thead>\n",
              "  <tbody>\n",
              "    <tr>\n",
              "      <th>5</th>\n",
              "      <td>Western Pacific</td>\n",
              "      <td>206770</td>\n",
              "    </tr>\n",
              "    <tr>\n",
              "      <th>0</th>\n",
              "      <td>Africa</td>\n",
              "      <td>440645</td>\n",
              "    </tr>\n",
              "    <tr>\n",
              "      <th>4</th>\n",
              "      <td>South-East Asia</td>\n",
              "      <td>1156933</td>\n",
              "    </tr>\n",
              "    <tr>\n",
              "      <th>2</th>\n",
              "      <td>Eastern Mediterranean</td>\n",
              "      <td>1201400</td>\n",
              "    </tr>\n",
              "    <tr>\n",
              "      <th>3</th>\n",
              "      <td>Europe</td>\n",
              "      <td>1993723</td>\n",
              "    </tr>\n",
              "    <tr>\n",
              "      <th>1</th>\n",
              "      <td>Americas</td>\n",
              "      <td>4468616</td>\n",
              "    </tr>\n",
              "  </tbody>\n",
              "</table>\n",
              "</div>"
            ],
            "text/plain": [
              "              WHO Region  Recovered\n",
              "5        Western Pacific     206770\n",
              "0                 Africa     440645\n",
              "4        South-East Asia    1156933\n",
              "2  Eastern Mediterranean    1201400\n",
              "3                 Europe    1993723\n",
              "1               Americas    4468616"
            ]
          },
          "metadata": {},
          "execution_count": 40
        }
      ]
    },
    {
      "cell_type": "code",
      "metadata": {
        "colab": {
          "base_uri": "https://localhost:8080/",
          "height": 482
        },
        "id": "OV1_HscoqhQh",
        "outputId": "d3400270-799e-45bc-d816-4e76ade1a0ec"
      },
      "source": [
        "sns.kdeplot(regions_covid[\"Deaths\"], shade = True)"
      ],
      "execution_count": 43,
      "outputs": [
        {
          "output_type": "execute_result",
          "data": {
            "text/plain": [
              "<matplotlib.axes._subplots.AxesSubplot at 0x7efd380b6c10>"
            ]
          },
          "metadata": {},
          "execution_count": 43
        },
        {
          "output_type": "display_data",
          "data": {
            "image/png": "[encoded data removed]",
            "text/plain": [
              "<Figure size 1008x504 with 1 Axes>"
            ]
          },
          "metadata": {}
        }
      ]
    },
    {
      "cell_type": "code",
      "metadata": {
        "colab": {
          "base_uri": "https://localhost:8080/",
          "height": 482
        },
        "id": "j-v29cQiqpkZ",
        "outputId": "c40d9776-6087-4674-a7d0-2863cd4ade9f"
      },
      "source": [
        "sns.kdeplot(regions_covid[\"Recovered\"], shade = True)"
      ],
      "execution_count": 44,
      "outputs": [
        {
          "output_type": "execute_result",
          "data": {
            "text/plain": [
              "<matplotlib.axes._subplots.AxesSubplot at 0x7efd35a25f10>"
            ]
          },
          "metadata": {},
          "execution_count": 44
        },
        {
          "output_type": "display_data",
          "data": {
            "image/png": "[encoded data removed]",
            "text/plain": [
              "<Figure size 1008x504 with 1 Axes>"
            ]
          },
          "metadata": {}
        }
      ]
    },
    {
      "cell_type": "code",
      "metadata": {
        "colab": {
          "base_uri": "https://localhost:8080/",
          "height": 482
        },
        "id": "UM9n1JnaqrEa",
        "outputId": "d3888265-08a5-47c4-da12-f180c1c07d94"
      },
      "source": [
        "sns.kdeplot(regions_covid[\"Active\"], shade = True)"
      ],
      "execution_count": 45,
      "outputs": [
        {
          "output_type": "execute_result",
          "data": {
            "text/plain": [
              "<matplotlib.axes._subplots.AxesSubplot at 0x7efd3554d3d0>"
            ]
          },
          "metadata": {},
          "execution_count": 45
        },
        {
          "output_type": "display_data",
          "data": {
            "image/png": "[encoded data removed]",
            "text/plain": [
              "<Figure size 1008x504 with 1 Axes>"
            ]
          },
          "metadata": {}
        }
      ]
    },
    {
      "cell_type": "code",
      "metadata": {
        "colab": {
          "base_uri": "https://localhost:8080/",
          "height": 469
        },
        "id": "w74IGS_yrByM",
        "outputId": "45c8fefb-5e18-4201-bc58-079204edd5b8"
      },
      "source": [
        "sns.barplot(x=\"WHO Region\" , y=\"New cases\", data=data)"
      ],
      "execution_count": 46,
      "outputs": [
        {
          "output_type": "execute_result",
          "data": {
            "text/plain": [
              "<matplotlib.axes._subplots.AxesSubplot at 0x7efd3559c950>"
            ]
          },
          "metadata": {},
          "execution_count": 46
        },
        {
          "output_type": "display_data",
          "data": {
            "image/png": "[encoded data removed]",
            "text/plain": [
              "<Figure size 1008x504 with 1 Axes>"
            ]
          },
          "metadata": {}
        }
      ]
    },
    {
      "cell_type": "code",
      "metadata": {
        "colab": {
          "base_uri": "https://localhost:8080/",
          "height": 469
        },
        "id": "rCOvrkEJrHuk",
        "outputId": "c9e8634c-b1e5-488f-92d6-c59af46e5143"
      },
      "source": [
        "sns.barplot(x=\"WHO Region\" , y=\"Deaths\", data=regions_covid)"
      ],
      "execution_count": 47,
      "outputs": [
        {
          "output_type": "execute_result",
          "data": {
            "text/plain": [
              "<matplotlib.axes._subplots.AxesSubplot at 0x7efd35442cd0>"
            ]
          },
          "metadata": {},
          "execution_count": 47
        },
        {
          "output_type": "display_data",
          "data": {
            "image/png": "[encoded data removed]",
            "text/plain": [
              "<Figure size 1008x504 with 1 Axes>"
            ]
          },
          "metadata": {}
        }
      ]
    },
    {
      "cell_type": "code",
      "metadata": {
        "colab": {
          "base_uri": "https://localhost:8080/",
          "height": 482
        },
        "id": "x9nKJWTdrMm_",
        "outputId": "a8f0bec3-e741-4cfc-f011-ad9515bd8430"
      },
      "source": [
        "sns.barplot(x=\"WHO Region\" , y=\"Recovered\", data=regions_covid)"
      ],
      "execution_count": 48,
      "outputs": [
        {
          "output_type": "execute_result",
          "data": {
            "text/plain": [
              "<matplotlib.axes._subplots.AxesSubplot at 0x7efd353c7a50>"
            ]
          },
          "metadata": {},
          "execution_count": 48
        },
        {
          "output_type": "display_data",
          "data": {
            "image/png": "[encoded data removed]",
            "text/plain": [
              "<Figure size 1008x504 with 1 Axes>"
            ]
          },
          "metadata": {}
        }
      ]
    },
    {
      "cell_type": "code",
      "metadata": {
        "id": "oDSWT_0grZlW"
      },
      "source": [
        ""
      ],
      "execution_count": null,
      "outputs": []
    }
  ]
}
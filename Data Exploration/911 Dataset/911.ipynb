{
  "nbformat": 4,
  "nbformat_minor": 0,
  "metadata": {
    "colab": {
      "name": "911.ipynb",
      "provenance": [],
      "collapsed_sections": []
    },
    "kernelspec": {
      "name": "python3",
      "display_name": "Python 3"
    },
    "language_info": {
      "name": "python"
    }
  },
  "cells": [
    {
      "cell_type": "code",
      "metadata": {
        "id": "mDiwDbiz-wEB"
      },
      "source": [
        "import pandas as pd\n",
        "import seaborn as sns\n",
        "import matplotlib.pyplot as plt\n",
        "sns.set(rc={'figure.figsize': [14, 7]}, font_scale=1.2)"
      ],
      "execution_count": null,
      "outputs": []
    },
    {
      "cell_type": "code",
      "metadata": {
        "id": "nQnKO3g32aQ4"
      },
      "source": [
        "data = pd.read_csv('911.csv')"
      ],
      "execution_count": null,
      "outputs": []
    },
    {
      "cell_type": "code",
      "metadata": {
        "colab": {
          "base_uri": "https://localhost:8080/",
          "height": 522
        },
        "id": "nuCx8Sr-2dJW",
        "outputId": "98730167-a631-4c94-a0cd-d02d9a8e3355"
      },
      "source": [
        "data.head()"
      ],
      "execution_count": null,
      "outputs": [
        {
          "output_type": "execute_result",
          "data": {
            "text/html": [
              "<div>\n",
              "<style scoped>\n",
              "    .dataframe tbody tr th:only-of-type {\n",
              "        vertical-align: middle;\n",
              "    }\n",
              "\n",
              "    .dataframe tbody tr th {\n",
              "        vertical-align: top;\n",
              "    }\n",
              "\n",
              "    .dataframe thead th {\n",
              "        text-align: right;\n",
              "    }\n",
              "</style>\n",
              "<table border=\"1\" class=\"dataframe\">\n",
              "  <thead>\n",
              "    <tr style=\"text-align: right;\">\n",
              "      <th></th>\n",
              "      <th>lat</th>\n",
              "      <th>lng</th>\n",
              "      <th>desc</th>\n",
              "      <th>zip</th>\n",
              "      <th>title</th>\n",
              "      <th>timeStamp</th>\n",
              "      <th>twp</th>\n",
              "      <th>addr</th>\n",
              "      <th>e</th>\n",
              "      <th>Reason</th>\n",
              "      <th>hour</th>\n",
              "      <th>month</th>\n",
              "      <th>day of week</th>\n",
              "      <th>Year</th>\n",
              "    </tr>\n",
              "  </thead>\n",
              "  <tbody>\n",
              "    <tr>\n",
              "      <th>0</th>\n",
              "      <td>40.297876</td>\n",
              "      <td>-75.581294</td>\n",
              "      <td>REINDEER CT &amp; DEAD END;  NEW HANOVER; Station ...</td>\n",
              "      <td>19525.0</td>\n",
              "      <td>EMS: BACK PAINS/INJURY</td>\n",
              "      <td>2015-12-10 17:10:52</td>\n",
              "      <td>NEW HANOVER</td>\n",
              "      <td>REINDEER CT &amp; DEAD END</td>\n",
              "      <td>1</td>\n",
              "      <td>EMS</td>\n",
              "      <td>17</td>\n",
              "      <td>12</td>\n",
              "      <td>Thu</td>\n",
              "      <td>2015</td>\n",
              "    </tr>\n",
              "    <tr>\n",
              "      <th>1</th>\n",
              "      <td>40.258061</td>\n",
              "      <td>-75.264680</td>\n",
              "      <td>BRIAR PATH &amp; WHITEMARSH LN;  HATFIELD TOWNSHIP...</td>\n",
              "      <td>19446.0</td>\n",
              "      <td>EMS: DIABETIC EMERGENCY</td>\n",
              "      <td>2015-12-10 17:29:21</td>\n",
              "      <td>HATFIELD TOWNSHIP</td>\n",
              "      <td>BRIAR PATH &amp; WHITEMARSH LN</td>\n",
              "      <td>1</td>\n",
              "      <td>EMS</td>\n",
              "      <td>17</td>\n",
              "      <td>12</td>\n",
              "      <td>Thu</td>\n",
              "      <td>2015</td>\n",
              "    </tr>\n",
              "    <tr>\n",
              "      <th>2</th>\n",
              "      <td>40.121182</td>\n",
              "      <td>-75.351975</td>\n",
              "      <td>HAWS AVE; NORRISTOWN; 2015-12-10 @ 14:39:21-St...</td>\n",
              "      <td>19401.0</td>\n",
              "      <td>Fire: GAS-ODOR/LEAK</td>\n",
              "      <td>2015-12-10 14:39:21</td>\n",
              "      <td>NORRISTOWN</td>\n",
              "      <td>HAWS AVE</td>\n",
              "      <td>1</td>\n",
              "      <td>Fire</td>\n",
              "      <td>14</td>\n",
              "      <td>12</td>\n",
              "      <td>Thu</td>\n",
              "      <td>2015</td>\n",
              "    </tr>\n",
              "    <tr>\n",
              "      <th>3</th>\n",
              "      <td>40.116153</td>\n",
              "      <td>-75.343513</td>\n",
              "      <td>AIRY ST &amp; SWEDE ST;  NORRISTOWN; Station 308A;...</td>\n",
              "      <td>19401.0</td>\n",
              "      <td>EMS: CARDIAC EMERGENCY</td>\n",
              "      <td>2015-12-10 16:47:36</td>\n",
              "      <td>NORRISTOWN</td>\n",
              "      <td>AIRY ST &amp; SWEDE ST</td>\n",
              "      <td>1</td>\n",
              "      <td>EMS</td>\n",
              "      <td>16</td>\n",
              "      <td>12</td>\n",
              "      <td>Thu</td>\n",
              "      <td>2015</td>\n",
              "    </tr>\n",
              "    <tr>\n",
              "      <th>4</th>\n",
              "      <td>40.251492</td>\n",
              "      <td>-75.603350</td>\n",
              "      <td>CHERRYWOOD CT &amp; DEAD END;  LOWER POTTSGROVE; S...</td>\n",
              "      <td>NaN</td>\n",
              "      <td>EMS: DIZZINESS</td>\n",
              "      <td>2015-12-10 16:56:52</td>\n",
              "      <td>LOWER POTTSGROVE</td>\n",
              "      <td>CHERRYWOOD CT &amp; DEAD END</td>\n",
              "      <td>1</td>\n",
              "      <td>EMS</td>\n",
              "      <td>16</td>\n",
              "      <td>12</td>\n",
              "      <td>Thu</td>\n",
              "      <td>2015</td>\n",
              "    </tr>\n",
              "  </tbody>\n",
              "</table>\n",
              "</div>"
            ],
            "text/plain": [
              "         lat        lng  ... day of week  Year\n",
              "0  40.297876 -75.581294  ...         Thu  2015\n",
              "1  40.258061 -75.264680  ...         Thu  2015\n",
              "2  40.121182 -75.351975  ...         Thu  2015\n",
              "3  40.116153 -75.343513  ...         Thu  2015\n",
              "4  40.251492 -75.603350  ...         Thu  2015\n",
              "\n",
              "[5 rows x 14 columns]"
            ]
          },
          "metadata": {},
          "execution_count": 5
        }
      ]
    },
    {
      "cell_type": "code",
      "metadata": {
        "colab": {
          "base_uri": "https://localhost:8080/",
          "height": 610
        },
        "id": "KuzBmqAg3O0E",
        "outputId": "4c6c2e5d-8ad2-4825-d0bf-26b8b0f70b7b"
      },
      "source": [
        "data.tail()"
      ],
      "execution_count": null,
      "outputs": [
        {
          "output_type": "execute_result",
          "data": {
            "text/html": [
              "<div>\n",
              "<style scoped>\n",
              "    .dataframe tbody tr th:only-of-type {\n",
              "        vertical-align: middle;\n",
              "    }\n",
              "\n",
              "    .dataframe tbody tr th {\n",
              "        vertical-align: top;\n",
              "    }\n",
              "\n",
              "    .dataframe thead th {\n",
              "        text-align: right;\n",
              "    }\n",
              "</style>\n",
              "<table border=\"1\" class=\"dataframe\">\n",
              "  <thead>\n",
              "    <tr style=\"text-align: right;\">\n",
              "      <th></th>\n",
              "      <th>lat</th>\n",
              "      <th>lng</th>\n",
              "      <th>desc</th>\n",
              "      <th>zip</th>\n",
              "      <th>title</th>\n",
              "      <th>timeStamp</th>\n",
              "      <th>twp</th>\n",
              "      <th>addr</th>\n",
              "      <th>e</th>\n",
              "      <th>Reason</th>\n",
              "      <th>hour</th>\n",
              "      <th>month</th>\n",
              "      <th>day of week</th>\n",
              "      <th>Year</th>\n",
              "    </tr>\n",
              "  </thead>\n",
              "  <tbody>\n",
              "    <tr>\n",
              "      <th>115206</th>\n",
              "      <td>40.265484</td>\n",
              "      <td>-75.293554</td>\n",
              "      <td>WERNER RD &amp; ORVILLA RD;  HATFIELD TOWNSHIP; St...</td>\n",
              "      <td>19440.0</td>\n",
              "      <td>EMS: RESPIRATORY EMERGENCY</td>\n",
              "      <td>2016-10-05 16:57:25</td>\n",
              "      <td>HATFIELD TOWNSHIP</td>\n",
              "      <td>WERNER RD &amp; ORVILLA RD</td>\n",
              "      <td>1</td>\n",
              "      <td>EMS</td>\n",
              "      <td>16</td>\n",
              "      <td>10</td>\n",
              "      <td>Wed</td>\n",
              "      <td>2016</td>\n",
              "    </tr>\n",
              "    <tr>\n",
              "      <th>115207</th>\n",
              "      <td>40.131681</td>\n",
              "      <td>-75.389806</td>\n",
              "      <td>EGYPT RD;  WEST NORRITON; Station 308B; 2016-1...</td>\n",
              "      <td>19403.0</td>\n",
              "      <td>EMS: VEHICLE ACCIDENT</td>\n",
              "      <td>2016-10-05 16:56:23</td>\n",
              "      <td>WEST NORRITON</td>\n",
              "      <td>EGYPT RD</td>\n",
              "      <td>1</td>\n",
              "      <td>EMS</td>\n",
              "      <td>16</td>\n",
              "      <td>10</td>\n",
              "      <td>Wed</td>\n",
              "      <td>2016</td>\n",
              "    </tr>\n",
              "    <tr>\n",
              "      <th>115208</th>\n",
              "      <td>40.186753</td>\n",
              "      <td>-75.143373</td>\n",
              "      <td>HORSHAM RD &amp; WALNUT AVE; HORSHAM; 2016-10-05 @...</td>\n",
              "      <td>19044.0</td>\n",
              "      <td>Traffic: VEHICLE FIRE -</td>\n",
              "      <td>2016-10-05 16:59:52</td>\n",
              "      <td>HORSHAM</td>\n",
              "      <td>HORSHAM RD &amp; WALNUT AVE</td>\n",
              "      <td>1</td>\n",
              "      <td>Traffic</td>\n",
              "      <td>16</td>\n",
              "      <td>10</td>\n",
              "      <td>Wed</td>\n",
              "      <td>2016</td>\n",
              "    </tr>\n",
              "    <tr>\n",
              "      <th>115209</th>\n",
              "      <td>40.155928</td>\n",
              "      <td>-75.141169</td>\n",
              "      <td>WELSH RD &amp; BLAIR MILL RD; UPPER MORELAND; 2016...</td>\n",
              "      <td>19090.0</td>\n",
              "      <td>Traffic: DISABLED VEHICLE -</td>\n",
              "      <td>2016-10-05 16:57:29</td>\n",
              "      <td>UPPER MORELAND</td>\n",
              "      <td>WELSH RD &amp; BLAIR MILL RD</td>\n",
              "      <td>1</td>\n",
              "      <td>Traffic</td>\n",
              "      <td>16</td>\n",
              "      <td>10</td>\n",
              "      <td>Wed</td>\n",
              "      <td>2016</td>\n",
              "    </tr>\n",
              "    <tr>\n",
              "      <th>115210</th>\n",
              "      <td>40.147850</td>\n",
              "      <td>-75.333684</td>\n",
              "      <td>W GERMANTOWN PIKE &amp; BARLEY SHEAF DR; EAST NORR...</td>\n",
              "      <td>19403.0</td>\n",
              "      <td>Traffic: VEHICLE ACCIDENT -</td>\n",
              "      <td>2016-10-05 16:59:30</td>\n",
              "      <td>EAST NORRITON</td>\n",
              "      <td>W GERMANTOWN PIKE &amp; BARLEY SHEAF DR</td>\n",
              "      <td>1</td>\n",
              "      <td>Traffic</td>\n",
              "      <td>16</td>\n",
              "      <td>10</td>\n",
              "      <td>Wed</td>\n",
              "      <td>2016</td>\n",
              "    </tr>\n",
              "  </tbody>\n",
              "</table>\n",
              "</div>"
            ],
            "text/plain": [
              "              lat        lng  ... day of week  Year\n",
              "115206  40.265484 -75.293554  ...         Wed  2016\n",
              "115207  40.131681 -75.389806  ...         Wed  2016\n",
              "115208  40.186753 -75.143373  ...         Wed  2016\n",
              "115209  40.155928 -75.141169  ...         Wed  2016\n",
              "115210  40.147850 -75.333684  ...         Wed  2016\n",
              "\n",
              "[5 rows x 14 columns]"
            ]
          },
          "metadata": {},
          "execution_count": 6
        }
      ]
    },
    {
      "cell_type": "code",
      "metadata": {
        "colab": {
          "base_uri": "https://localhost:8080/",
          "height": 295
        },
        "id": "eYAkWPvL3Q7I",
        "outputId": "4df71769-468f-40ef-c4c4-ae78fd659eca"
      },
      "source": [
        "data.describe()"
      ],
      "execution_count": null,
      "outputs": [
        {
          "output_type": "execute_result",
          "data": {
            "text/html": [
              "<div>\n",
              "<style scoped>\n",
              "    .dataframe tbody tr th:only-of-type {\n",
              "        vertical-align: middle;\n",
              "    }\n",
              "\n",
              "    .dataframe tbody tr th {\n",
              "        vertical-align: top;\n",
              "    }\n",
              "\n",
              "    .dataframe thead th {\n",
              "        text-align: right;\n",
              "    }\n",
              "</style>\n",
              "<table border=\"1\" class=\"dataframe\">\n",
              "  <thead>\n",
              "    <tr style=\"text-align: right;\">\n",
              "      <th></th>\n",
              "      <th>lat</th>\n",
              "      <th>lng</th>\n",
              "      <th>zip</th>\n",
              "      <th>e</th>\n",
              "      <th>hour</th>\n",
              "      <th>month</th>\n",
              "      <th>Year</th>\n",
              "    </tr>\n",
              "  </thead>\n",
              "  <tbody>\n",
              "    <tr>\n",
              "      <th>count</th>\n",
              "      <td>115211.000000</td>\n",
              "      <td>115211.000000</td>\n",
              "      <td>100789.000000</td>\n",
              "      <td>115211.0</td>\n",
              "      <td>115211.000000</td>\n",
              "      <td>115211.000000</td>\n",
              "      <td>115211.000000</td>\n",
              "    </tr>\n",
              "    <tr>\n",
              "      <th>mean</th>\n",
              "      <td>40.159127</td>\n",
              "      <td>-75.317145</td>\n",
              "      <td>19237.423201</td>\n",
              "      <td>1.0</td>\n",
              "      <td>13.064759</td>\n",
              "      <td>5.539714</td>\n",
              "      <td>2015.931291</td>\n",
              "    </tr>\n",
              "    <tr>\n",
              "      <th>std</th>\n",
              "      <td>0.093297</td>\n",
              "      <td>0.170770</td>\n",
              "      <td>336.415922</td>\n",
              "      <td>0.0</td>\n",
              "      <td>5.662017</td>\n",
              "      <td>3.115296</td>\n",
              "      <td>0.252959</td>\n",
              "    </tr>\n",
              "    <tr>\n",
              "      <th>min</th>\n",
              "      <td>30.333596</td>\n",
              "      <td>-95.595595</td>\n",
              "      <td>17752.000000</td>\n",
              "      <td>1.0</td>\n",
              "      <td>0.000000</td>\n",
              "      <td>1.000000</td>\n",
              "      <td>2015.000000</td>\n",
              "    </tr>\n",
              "    <tr>\n",
              "      <th>25%</th>\n",
              "      <td>40.100234</td>\n",
              "      <td>-75.391998</td>\n",
              "      <td>19038.000000</td>\n",
              "      <td>1.0</td>\n",
              "      <td>9.000000</td>\n",
              "      <td>3.000000</td>\n",
              "      <td>2016.000000</td>\n",
              "    </tr>\n",
              "    <tr>\n",
              "      <th>50%</th>\n",
              "      <td>40.144526</td>\n",
              "      <td>-75.304780</td>\n",
              "      <td>19401.000000</td>\n",
              "      <td>1.0</td>\n",
              "      <td>13.000000</td>\n",
              "      <td>5.000000</td>\n",
              "      <td>2016.000000</td>\n",
              "    </tr>\n",
              "    <tr>\n",
              "      <th>75%</th>\n",
              "      <td>40.229008</td>\n",
              "      <td>-75.211866</td>\n",
              "      <td>19446.000000</td>\n",
              "      <td>1.0</td>\n",
              "      <td>17.000000</td>\n",
              "      <td>8.000000</td>\n",
              "      <td>2016.000000</td>\n",
              "    </tr>\n",
              "    <tr>\n",
              "      <th>max</th>\n",
              "      <td>41.167156</td>\n",
              "      <td>-74.995041</td>\n",
              "      <td>77316.000000</td>\n",
              "      <td>1.0</td>\n",
              "      <td>23.000000</td>\n",
              "      <td>12.000000</td>\n",
              "      <td>2016.000000</td>\n",
              "    </tr>\n",
              "  </tbody>\n",
              "</table>\n",
              "</div>"
            ],
            "text/plain": [
              "                 lat            lng  ...          month           Year\n",
              "count  115211.000000  115211.000000  ...  115211.000000  115211.000000\n",
              "mean       40.159127     -75.317145  ...       5.539714    2015.931291\n",
              "std         0.093297       0.170770  ...       3.115296       0.252959\n",
              "min        30.333596     -95.595595  ...       1.000000    2015.000000\n",
              "25%        40.100234     -75.391998  ...       3.000000    2016.000000\n",
              "50%        40.144526     -75.304780  ...       5.000000    2016.000000\n",
              "75%        40.229008     -75.211866  ...       8.000000    2016.000000\n",
              "max        41.167156     -74.995041  ...      12.000000    2016.000000\n",
              "\n",
              "[8 rows x 7 columns]"
            ]
          },
          "metadata": {},
          "execution_count": 7
        }
      ]
    },
    {
      "cell_type": "code",
      "metadata": {
        "colab": {
          "base_uri": "https://localhost:8080/",
          "height": 1000
        },
        "id": "TH5RlIzB3RmZ",
        "outputId": "4c04cc0b-4487-4bac-cdeb-e35b2e8be27c"
      },
      "source": [
        "year15 = data[\"Year\"].isin([\"2015\"])\n",
        "data[year15]"
      ],
      "execution_count": null,
      "outputs": [
        {
          "output_type": "execute_result",
          "data": {
            "text/html": [
              "<div>\n",
              "<style scoped>\n",
              "    .dataframe tbody tr th:only-of-type {\n",
              "        vertical-align: middle;\n",
              "    }\n",
              "\n",
              "    .dataframe tbody tr th {\n",
              "        vertical-align: top;\n",
              "    }\n",
              "\n",
              "    .dataframe thead th {\n",
              "        text-align: right;\n",
              "    }\n",
              "</style>\n",
              "<table border=\"1\" class=\"dataframe\">\n",
              "  <thead>\n",
              "    <tr style=\"text-align: right;\">\n",
              "      <th></th>\n",
              "      <th>lat</th>\n",
              "      <th>lng</th>\n",
              "      <th>desc</th>\n",
              "      <th>zip</th>\n",
              "      <th>title</th>\n",
              "      <th>timeStamp</th>\n",
              "      <th>twp</th>\n",
              "      <th>addr</th>\n",
              "      <th>e</th>\n",
              "      <th>Reason</th>\n",
              "      <th>hour</th>\n",
              "      <th>month</th>\n",
              "      <th>day of week</th>\n",
              "      <th>Year</th>\n",
              "    </tr>\n",
              "  </thead>\n",
              "  <tbody>\n",
              "    <tr>\n",
              "      <th>0</th>\n",
              "      <td>40.297876</td>\n",
              "      <td>-75.581294</td>\n",
              "      <td>REINDEER CT &amp; DEAD END;  NEW HANOVER; Station ...</td>\n",
              "      <td>19525.0</td>\n",
              "      <td>EMS: BACK PAINS/INJURY</td>\n",
              "      <td>2015-12-10 17:10:52</td>\n",
              "      <td>NEW HANOVER</td>\n",
              "      <td>REINDEER CT &amp; DEAD END</td>\n",
              "      <td>1</td>\n",
              "      <td>EMS</td>\n",
              "      <td>17</td>\n",
              "      <td>12</td>\n",
              "      <td>Thu</td>\n",
              "      <td>2015</td>\n",
              "    </tr>\n",
              "    <tr>\n",
              "      <th>1</th>\n",
              "      <td>40.258061</td>\n",
              "      <td>-75.264680</td>\n",
              "      <td>BRIAR PATH &amp; WHITEMARSH LN;  HATFIELD TOWNSHIP...</td>\n",
              "      <td>19446.0</td>\n",
              "      <td>EMS: DIABETIC EMERGENCY</td>\n",
              "      <td>2015-12-10 17:29:21</td>\n",
              "      <td>HATFIELD TOWNSHIP</td>\n",
              "      <td>BRIAR PATH &amp; WHITEMARSH LN</td>\n",
              "      <td>1</td>\n",
              "      <td>EMS</td>\n",
              "      <td>17</td>\n",
              "      <td>12</td>\n",
              "      <td>Thu</td>\n",
              "      <td>2015</td>\n",
              "    </tr>\n",
              "    <tr>\n",
              "      <th>2</th>\n",
              "      <td>40.121182</td>\n",
              "      <td>-75.351975</td>\n",
              "      <td>HAWS AVE; NORRISTOWN; 2015-12-10 @ 14:39:21-St...</td>\n",
              "      <td>19401.0</td>\n",
              "      <td>Fire: GAS-ODOR/LEAK</td>\n",
              "      <td>2015-12-10 14:39:21</td>\n",
              "      <td>NORRISTOWN</td>\n",
              "      <td>HAWS AVE</td>\n",
              "      <td>1</td>\n",
              "      <td>Fire</td>\n",
              "      <td>14</td>\n",
              "      <td>12</td>\n",
              "      <td>Thu</td>\n",
              "      <td>2015</td>\n",
              "    </tr>\n",
              "    <tr>\n",
              "      <th>3</th>\n",
              "      <td>40.116153</td>\n",
              "      <td>-75.343513</td>\n",
              "      <td>AIRY ST &amp; SWEDE ST;  NORRISTOWN; Station 308A;...</td>\n",
              "      <td>19401.0</td>\n",
              "      <td>EMS: CARDIAC EMERGENCY</td>\n",
              "      <td>2015-12-10 16:47:36</td>\n",
              "      <td>NORRISTOWN</td>\n",
              "      <td>AIRY ST &amp; SWEDE ST</td>\n",
              "      <td>1</td>\n",
              "      <td>EMS</td>\n",
              "      <td>16</td>\n",
              "      <td>12</td>\n",
              "      <td>Thu</td>\n",
              "      <td>2015</td>\n",
              "    </tr>\n",
              "    <tr>\n",
              "      <th>4</th>\n",
              "      <td>40.251492</td>\n",
              "      <td>-75.603350</td>\n",
              "      <td>CHERRYWOOD CT &amp; DEAD END;  LOWER POTTSGROVE; S...</td>\n",
              "      <td>NaN</td>\n",
              "      <td>EMS: DIZZINESS</td>\n",
              "      <td>2015-12-10 16:56:52</td>\n",
              "      <td>LOWER POTTSGROVE</td>\n",
              "      <td>CHERRYWOOD CT &amp; DEAD END</td>\n",
              "      <td>1</td>\n",
              "      <td>EMS</td>\n",
              "      <td>16</td>\n",
              "      <td>12</td>\n",
              "      <td>Thu</td>\n",
              "      <td>2015</td>\n",
              "    </tr>\n",
              "    <tr>\n",
              "      <th>...</th>\n",
              "      <td>...</td>\n",
              "      <td>...</td>\n",
              "      <td>...</td>\n",
              "      <td>...</td>\n",
              "      <td>...</td>\n",
              "      <td>...</td>\n",
              "      <td>...</td>\n",
              "      <td>...</td>\n",
              "      <td>...</td>\n",
              "      <td>...</td>\n",
              "      <td>...</td>\n",
              "      <td>...</td>\n",
              "      <td>...</td>\n",
              "      <td>...</td>\n",
              "    </tr>\n",
              "    <tr>\n",
              "      <th>7911</th>\n",
              "      <td>40.291231</td>\n",
              "      <td>-75.271800</td>\n",
              "      <td>BETHLEHEM PIKE &amp; SWARTLEY RD; BUCKS COUNTY; 20...</td>\n",
              "      <td>19440.0</td>\n",
              "      <td>Traffic: VEHICLE ACCIDENT -</td>\n",
              "      <td>2015-12-31 23:32:27</td>\n",
              "      <td>BUCKS COUNTY</td>\n",
              "      <td>BETHLEHEM PIKE &amp; SWARTLEY RD</td>\n",
              "      <td>1</td>\n",
              "      <td>Traffic</td>\n",
              "      <td>23</td>\n",
              "      <td>12</td>\n",
              "      <td>Thu</td>\n",
              "      <td>2015</td>\n",
              "    </tr>\n",
              "    <tr>\n",
              "      <th>7912</th>\n",
              "      <td>40.136020</td>\n",
              "      <td>-75.354606</td>\n",
              "      <td>BEECH DR &amp; SPRUCE ST;  WEST NORRITON; Station ...</td>\n",
              "      <td>19403.0</td>\n",
              "      <td>EMS: SEIZURES</td>\n",
              "      <td>2015-12-31 23:44:56</td>\n",
              "      <td>WEST NORRITON</td>\n",
              "      <td>BEECH DR &amp; SPRUCE ST</td>\n",
              "      <td>1</td>\n",
              "      <td>EMS</td>\n",
              "      <td>23</td>\n",
              "      <td>12</td>\n",
              "      <td>Thu</td>\n",
              "      <td>2015</td>\n",
              "    </tr>\n",
              "    <tr>\n",
              "      <th>7913</th>\n",
              "      <td>40.294817</td>\n",
              "      <td>-75.537972</td>\n",
              "      <td>BIG RD &amp; COLONIAL RD;  UPPER FREDERICK; Statio...</td>\n",
              "      <td>18074.0</td>\n",
              "      <td>EMS: FALL VICTIM</td>\n",
              "      <td>2015-12-31 23:54:02</td>\n",
              "      <td>UPPER FREDERICK</td>\n",
              "      <td>BIG RD &amp; COLONIAL RD</td>\n",
              "      <td>1</td>\n",
              "      <td>EMS</td>\n",
              "      <td>23</td>\n",
              "      <td>12</td>\n",
              "      <td>Thu</td>\n",
              "      <td>2015</td>\n",
              "    </tr>\n",
              "    <tr>\n",
              "      <th>7914</th>\n",
              "      <td>40.112336</td>\n",
              "      <td>-75.150554</td>\n",
              "      <td>ROBERTS AVE &amp; JENKINTOWN RD;  ABINGTON; Statio...</td>\n",
              "      <td>19038.0</td>\n",
              "      <td>EMS: CARDIAC EMERGENCY</td>\n",
              "      <td>2015-12-31 23:53:19</td>\n",
              "      <td>ABINGTON</td>\n",
              "      <td>ROBERTS AVE &amp; JENKINTOWN RD</td>\n",
              "      <td>1</td>\n",
              "      <td>EMS</td>\n",
              "      <td>23</td>\n",
              "      <td>12</td>\n",
              "      <td>Thu</td>\n",
              "      <td>2015</td>\n",
              "    </tr>\n",
              "    <tr>\n",
              "      <th>7915</th>\n",
              "      <td>40.081127</td>\n",
              "      <td>-75.160484</td>\n",
              "      <td>LIMEKILN PIKE &amp; EVERGREEN AVE; CHELTENHAM; 201...</td>\n",
              "      <td>19095.0</td>\n",
              "      <td>Traffic: DISABLED VEHICLE -</td>\n",
              "      <td>2015-12-31 23:52:46</td>\n",
              "      <td>CHELTENHAM</td>\n",
              "      <td>LIMEKILN PIKE &amp; EVERGREEN AVE</td>\n",
              "      <td>1</td>\n",
              "      <td>Traffic</td>\n",
              "      <td>23</td>\n",
              "      <td>12</td>\n",
              "      <td>Thu</td>\n",
              "      <td>2015</td>\n",
              "    </tr>\n",
              "  </tbody>\n",
              "</table>\n",
              "<p>7916 rows × 14 columns</p>\n",
              "</div>"
            ],
            "text/plain": [
              "            lat        lng  ... day of week  Year\n",
              "0     40.297876 -75.581294  ...         Thu  2015\n",
              "1     40.258061 -75.264680  ...         Thu  2015\n",
              "2     40.121182 -75.351975  ...         Thu  2015\n",
              "3     40.116153 -75.343513  ...         Thu  2015\n",
              "4     40.251492 -75.603350  ...         Thu  2015\n",
              "...         ...        ...  ...         ...   ...\n",
              "7911  40.291231 -75.271800  ...         Thu  2015\n",
              "7912  40.136020 -75.354606  ...         Thu  2015\n",
              "7913  40.294817 -75.537972  ...         Thu  2015\n",
              "7914  40.112336 -75.150554  ...         Thu  2015\n",
              "7915  40.081127 -75.160484  ...         Thu  2015\n",
              "\n",
              "[7916 rows x 14 columns]"
            ]
          },
          "metadata": {},
          "execution_count": 14
        }
      ]
    },
    {
      "cell_type": "code",
      "metadata": {
        "colab": {
          "base_uri": "https://localhost:8080/"
        },
        "id": "t_PYjpTn39-c",
        "outputId": "c5438866-2b5b-4d34-e9a9-5c232f29d938"
      },
      "source": [
        "data[year15].count()"
      ],
      "execution_count": null,
      "outputs": [
        {
          "output_type": "execute_result",
          "data": {
            "text/plain": [
              "lat            7916\n",
              "lng            7916\n",
              "desc           7916\n",
              "zip            6902\n",
              "title          7916\n",
              "timeStamp      7916\n",
              "twp            7911\n",
              "addr           7916\n",
              "e              7916\n",
              "Reason         7916\n",
              "hour           7916\n",
              "month          7916\n",
              "day of week    7916\n",
              "Year           7916\n",
              "dtype: int64"
            ]
          },
          "metadata": {},
          "execution_count": 15
        }
      ]
    },
    {
      "cell_type": "code",
      "metadata": {
        "colab": {
          "base_uri": "https://localhost:8080/",
          "height": 1000
        },
        "id": "_b4Q0bwQ30sZ",
        "outputId": "a8860fa5-8b36-4343-c2ec-c3fe02dd7d89"
      },
      "source": [
        "year16 = data[\"Year\"].isin([\"2016\"])\n",
        "data[year16]"
      ],
      "execution_count": null,
      "outputs": [
        {
          "output_type": "execute_result",
          "data": {
            "text/html": [
              "<div>\n",
              "<style scoped>\n",
              "    .dataframe tbody tr th:only-of-type {\n",
              "        vertical-align: middle;\n",
              "    }\n",
              "\n",
              "    .dataframe tbody tr th {\n",
              "        vertical-align: top;\n",
              "    }\n",
              "\n",
              "    .dataframe thead th {\n",
              "        text-align: right;\n",
              "    }\n",
              "</style>\n",
              "<table border=\"1\" class=\"dataframe\">\n",
              "  <thead>\n",
              "    <tr style=\"text-align: right;\">\n",
              "      <th></th>\n",
              "      <th>lat</th>\n",
              "      <th>lng</th>\n",
              "      <th>desc</th>\n",
              "      <th>zip</th>\n",
              "      <th>title</th>\n",
              "      <th>timeStamp</th>\n",
              "      <th>twp</th>\n",
              "      <th>addr</th>\n",
              "      <th>e</th>\n",
              "      <th>Reason</th>\n",
              "      <th>hour</th>\n",
              "      <th>month</th>\n",
              "      <th>day of week</th>\n",
              "      <th>Year</th>\n",
              "    </tr>\n",
              "  </thead>\n",
              "  <tbody>\n",
              "    <tr>\n",
              "      <th>7916</th>\n",
              "      <td>40.121354</td>\n",
              "      <td>-75.363829</td>\n",
              "      <td>ROSEMONT AVE &amp; W WASHINGTON ST;  NORRISTOWN; S...</td>\n",
              "      <td>19401.0</td>\n",
              "      <td>EMS: ASSAULT VICTIM</td>\n",
              "      <td>2016-01-01 00:10:08</td>\n",
              "      <td>NORRISTOWN</td>\n",
              "      <td>ROSEMONT AVE &amp; W WASHINGTON ST</td>\n",
              "      <td>1</td>\n",
              "      <td>EMS</td>\n",
              "      <td>0</td>\n",
              "      <td>1</td>\n",
              "      <td>Fri</td>\n",
              "      <td>2016</td>\n",
              "    </tr>\n",
              "    <tr>\n",
              "      <th>7917</th>\n",
              "      <td>40.140505</td>\n",
              "      <td>-75.310874</td>\n",
              "      <td>GERMANTOWN PIKE &amp; HANNAH AVE;  EAST NORRITON; ...</td>\n",
              "      <td>19401.0</td>\n",
              "      <td>EMS: FALL VICTIM</td>\n",
              "      <td>2016-01-01 00:14:45</td>\n",
              "      <td>EAST NORRITON</td>\n",
              "      <td>GERMANTOWN PIKE &amp; HANNAH AVE</td>\n",
              "      <td>1</td>\n",
              "      <td>EMS</td>\n",
              "      <td>0</td>\n",
              "      <td>1</td>\n",
              "      <td>Fri</td>\n",
              "      <td>2016</td>\n",
              "    </tr>\n",
              "    <tr>\n",
              "      <th>7918</th>\n",
              "      <td>40.246837</td>\n",
              "      <td>-75.681381</td>\n",
              "      <td>VINE ST &amp; CENTER ST;  WEST POTTSGROVE; Station...</td>\n",
              "      <td>19464.0</td>\n",
              "      <td>EMS: ABDOMINAL PAINS</td>\n",
              "      <td>2016-01-01 00:20:43</td>\n",
              "      <td>WEST POTTSGROVE</td>\n",
              "      <td>VINE ST &amp; CENTER ST</td>\n",
              "      <td>1</td>\n",
              "      <td>EMS</td>\n",
              "      <td>0</td>\n",
              "      <td>1</td>\n",
              "      <td>Fri</td>\n",
              "      <td>2016</td>\n",
              "    </tr>\n",
              "    <tr>\n",
              "      <th>7919</th>\n",
              "      <td>40.097222</td>\n",
              "      <td>-75.376195</td>\n",
              "      <td>MARK LN &amp; DEAD END;  UPPER MERION; Station 317...</td>\n",
              "      <td>NaN</td>\n",
              "      <td>EMS: ALTERED MENTAL STATUS</td>\n",
              "      <td>2016-01-01 00:25:30</td>\n",
              "      <td>UPPER MERION</td>\n",
              "      <td>MARK LN &amp; DEAD END</td>\n",
              "      <td>1</td>\n",
              "      <td>EMS</td>\n",
              "      <td>0</td>\n",
              "      <td>1</td>\n",
              "      <td>Fri</td>\n",
              "      <td>2016</td>\n",
              "    </tr>\n",
              "    <tr>\n",
              "      <th>7920</th>\n",
              "      <td>40.148432</td>\n",
              "      <td>-75.219812</td>\n",
              "      <td>BANNOCKBURN AVE &amp; S SPRING GARDEN ST;  AMBLER;...</td>\n",
              "      <td>19002.0</td>\n",
              "      <td>EMS: DIABETIC EMERGENCY</td>\n",
              "      <td>2016-01-01 00:30:28</td>\n",
              "      <td>AMBLER</td>\n",
              "      <td>BANNOCKBURN AVE &amp; S SPRING GARDEN ST</td>\n",
              "      <td>1</td>\n",
              "      <td>EMS</td>\n",
              "      <td>0</td>\n",
              "      <td>1</td>\n",
              "      <td>Fri</td>\n",
              "      <td>2016</td>\n",
              "    </tr>\n",
              "    <tr>\n",
              "      <th>...</th>\n",
              "      <td>...</td>\n",
              "      <td>...</td>\n",
              "      <td>...</td>\n",
              "      <td>...</td>\n",
              "      <td>...</td>\n",
              "      <td>...</td>\n",
              "      <td>...</td>\n",
              "      <td>...</td>\n",
              "      <td>...</td>\n",
              "      <td>...</td>\n",
              "      <td>...</td>\n",
              "      <td>...</td>\n",
              "      <td>...</td>\n",
              "      <td>...</td>\n",
              "    </tr>\n",
              "    <tr>\n",
              "      <th>115206</th>\n",
              "      <td>40.265484</td>\n",
              "      <td>-75.293554</td>\n",
              "      <td>WERNER RD &amp; ORVILLA RD;  HATFIELD TOWNSHIP; St...</td>\n",
              "      <td>19440.0</td>\n",
              "      <td>EMS: RESPIRATORY EMERGENCY</td>\n",
              "      <td>2016-10-05 16:57:25</td>\n",
              "      <td>HATFIELD TOWNSHIP</td>\n",
              "      <td>WERNER RD &amp; ORVILLA RD</td>\n",
              "      <td>1</td>\n",
              "      <td>EMS</td>\n",
              "      <td>16</td>\n",
              "      <td>10</td>\n",
              "      <td>Wed</td>\n",
              "      <td>2016</td>\n",
              "    </tr>\n",
              "    <tr>\n",
              "      <th>115207</th>\n",
              "      <td>40.131681</td>\n",
              "      <td>-75.389806</td>\n",
              "      <td>EGYPT RD;  WEST NORRITON; Station 308B; 2016-1...</td>\n",
              "      <td>19403.0</td>\n",
              "      <td>EMS: VEHICLE ACCIDENT</td>\n",
              "      <td>2016-10-05 16:56:23</td>\n",
              "      <td>WEST NORRITON</td>\n",
              "      <td>EGYPT RD</td>\n",
              "      <td>1</td>\n",
              "      <td>EMS</td>\n",
              "      <td>16</td>\n",
              "      <td>10</td>\n",
              "      <td>Wed</td>\n",
              "      <td>2016</td>\n",
              "    </tr>\n",
              "    <tr>\n",
              "      <th>115208</th>\n",
              "      <td>40.186753</td>\n",
              "      <td>-75.143373</td>\n",
              "      <td>HORSHAM RD &amp; WALNUT AVE; HORSHAM; 2016-10-05 @...</td>\n",
              "      <td>19044.0</td>\n",
              "      <td>Traffic: VEHICLE FIRE -</td>\n",
              "      <td>2016-10-05 16:59:52</td>\n",
              "      <td>HORSHAM</td>\n",
              "      <td>HORSHAM RD &amp; WALNUT AVE</td>\n",
              "      <td>1</td>\n",
              "      <td>Traffic</td>\n",
              "      <td>16</td>\n",
              "      <td>10</td>\n",
              "      <td>Wed</td>\n",
              "      <td>2016</td>\n",
              "    </tr>\n",
              "    <tr>\n",
              "      <th>115209</th>\n",
              "      <td>40.155928</td>\n",
              "      <td>-75.141169</td>\n",
              "      <td>WELSH RD &amp; BLAIR MILL RD; UPPER MORELAND; 2016...</td>\n",
              "      <td>19090.0</td>\n",
              "      <td>Traffic: DISABLED VEHICLE -</td>\n",
              "      <td>2016-10-05 16:57:29</td>\n",
              "      <td>UPPER MORELAND</td>\n",
              "      <td>WELSH RD &amp; BLAIR MILL RD</td>\n",
              "      <td>1</td>\n",
              "      <td>Traffic</td>\n",
              "      <td>16</td>\n",
              "      <td>10</td>\n",
              "      <td>Wed</td>\n",
              "      <td>2016</td>\n",
              "    </tr>\n",
              "    <tr>\n",
              "      <th>115210</th>\n",
              "      <td>40.147850</td>\n",
              "      <td>-75.333684</td>\n",
              "      <td>W GERMANTOWN PIKE &amp; BARLEY SHEAF DR; EAST NORR...</td>\n",
              "      <td>19403.0</td>\n",
              "      <td>Traffic: VEHICLE ACCIDENT -</td>\n",
              "      <td>2016-10-05 16:59:30</td>\n",
              "      <td>EAST NORRITON</td>\n",
              "      <td>W GERMANTOWN PIKE &amp; BARLEY SHEAF DR</td>\n",
              "      <td>1</td>\n",
              "      <td>Traffic</td>\n",
              "      <td>16</td>\n",
              "      <td>10</td>\n",
              "      <td>Wed</td>\n",
              "      <td>2016</td>\n",
              "    </tr>\n",
              "  </tbody>\n",
              "</table>\n",
              "<p>107295 rows × 14 columns</p>\n",
              "</div>"
            ],
            "text/plain": [
              "              lat        lng  ... day of week  Year\n",
              "7916    40.121354 -75.363829  ...         Fri  2016\n",
              "7917    40.140505 -75.310874  ...         Fri  2016\n",
              "7918    40.246837 -75.681381  ...         Fri  2016\n",
              "7919    40.097222 -75.376195  ...         Fri  2016\n",
              "7920    40.148432 -75.219812  ...         Fri  2016\n",
              "...           ...        ...  ...         ...   ...\n",
              "115206  40.265484 -75.293554  ...         Wed  2016\n",
              "115207  40.131681 -75.389806  ...         Wed  2016\n",
              "115208  40.186753 -75.143373  ...         Wed  2016\n",
              "115209  40.155928 -75.141169  ...         Wed  2016\n",
              "115210  40.147850 -75.333684  ...         Wed  2016\n",
              "\n",
              "[107295 rows x 14 columns]"
            ]
          },
          "metadata": {},
          "execution_count": 16
        }
      ]
    },
    {
      "cell_type": "code",
      "metadata": {
        "colab": {
          "base_uri": "https://localhost:8080/"
        },
        "id": "IE_0tpoz34Tj",
        "outputId": "db396c56-b78d-497f-afeb-7a45e7a7ee26"
      },
      "source": [
        "data[year16].count()"
      ],
      "execution_count": null,
      "outputs": [
        {
          "output_type": "execute_result",
          "data": {
            "text/plain": [
              "lat            107295\n",
              "lng            107295\n",
              "desc           107295\n",
              "zip             93887\n",
              "title          107295\n",
              "timeStamp      107295\n",
              "twp            107266\n",
              "addr           107295\n",
              "e              107295\n",
              "Reason         107295\n",
              "hour           107295\n",
              "month          107295\n",
              "day of week    107295\n",
              "Year           107295\n",
              "dtype: int64"
            ]
          },
          "metadata": {},
          "execution_count": 17
        }
      ]
    },
    {
      "cell_type": "code",
      "metadata": {
        "colab": {
          "base_uri": "https://localhost:8080/"
        },
        "id": "eZSpcIPY4EYi",
        "outputId": "04541d10-d1ca-4e66-ff52-44ce17f6fc4f"
      },
      "source": [
        "data['Reason'].value_counts()"
      ],
      "execution_count": null,
      "outputs": [
        {
          "output_type": "execute_result",
          "data": {
            "text/plain": [
              "EMS        56986\n",
              "Traffic    40830\n",
              "Fire       17395\n",
              "Name: Reason, dtype: int64"
            ]
          },
          "metadata": {},
          "execution_count": 18
        }
      ]
    },
    {
      "cell_type": "code",
      "metadata": {
        "colab": {
          "base_uri": "https://localhost:8080/"
        },
        "id": "cJuwtFt-4R_g",
        "outputId": "5b4a0005-1019-45bb-92ad-a7171c55fa00"
      },
      "source": [
        "data[year15]['Reason'].value_counts()"
      ],
      "execution_count": null,
      "outputs": [
        {
          "output_type": "execute_result",
          "data": {
            "text/plain": [
              "EMS        3898\n",
              "Traffic    2923\n",
              "Fire       1095\n",
              "Name: Reason, dtype: int64"
            ]
          },
          "metadata": {},
          "execution_count": 19
        }
      ]
    },
    {
      "cell_type": "code",
      "metadata": {
        "colab": {
          "base_uri": "https://localhost:8080/"
        },
        "id": "-zxXLwMX4j0Q",
        "outputId": "ae4cc397-1f73-4ead-9632-aea59155d769"
      },
      "source": [
        "data[year16]['Reason'].value_counts()"
      ],
      "execution_count": null,
      "outputs": [
        {
          "output_type": "execute_result",
          "data": {
            "text/plain": [
              "EMS        53088\n",
              "Traffic    37907\n",
              "Fire       16300\n",
              "Name: Reason, dtype: int64"
            ]
          },
          "metadata": {},
          "execution_count": 20
        }
      ]
    },
    {
      "cell_type": "code",
      "metadata": {
        "colab": {
          "base_uri": "https://localhost:8080/"
        },
        "id": "jCz02eTI4mmp",
        "outputId": "3cd9b060-c8cf-426b-a229-696013a73e14"
      },
      "source": [
        "data['day of week'].value_counts()"
      ],
      "execution_count": null,
      "outputs": [
        {
          "output_type": "execute_result",
          "data": {
            "text/plain": [
              "Fri    17391\n",
              "Tue    17348\n",
              "Wed    17323\n",
              "Thu    16929\n",
              "Mon    16919\n",
              "Sat    15323\n",
              "Sun    13978\n",
              "Name: day of week, dtype: int64"
            ]
          },
          "metadata": {},
          "execution_count": 21
        }
      ]
    },
    {
      "cell_type": "code",
      "metadata": {
        "colab": {
          "base_uri": "https://localhost:8080/"
        },
        "id": "tfy2LFWQ5Vz7",
        "outputId": "833b31a5-aa5f-456d-a433-cd74926cf447"
      },
      "source": [
        "data[year15]['day of week'].value_counts()"
      ],
      "execution_count": null,
      "outputs": [
        {
          "output_type": "execute_result",
          "data": {
            "text/plain": [
              "Thu    1262\n",
              "Mon    1251\n",
              "Wed    1247\n",
              "Tue    1234\n",
              "Fri    1058\n",
              "Sat     960\n",
              "Sun     904\n",
              "Name: day of week, dtype: int64"
            ]
          },
          "metadata": {},
          "execution_count": 22
        }
      ]
    },
    {
      "cell_type": "code",
      "metadata": {
        "colab": {
          "base_uri": "https://localhost:8080/"
        },
        "id": "__JlZ6Bk5Yed",
        "outputId": "2bc19e4b-6e88-49f9-9fe3-00140401f480"
      },
      "source": [
        "data[year16]['day of week'].value_counts()"
      ],
      "execution_count": null,
      "outputs": [
        {
          "output_type": "execute_result",
          "data": {
            "text/plain": [
              "Fri    16333\n",
              "Tue    16114\n",
              "Wed    16076\n",
              "Mon    15668\n",
              "Thu    15667\n",
              "Sat    14363\n",
              "Sun    13074\n",
              "Name: day of week, dtype: int64"
            ]
          },
          "metadata": {},
          "execution_count": 23
        }
      ]
    },
    {
      "cell_type": "code",
      "metadata": {
        "colab": {
          "base_uri": "https://localhost:8080/"
        },
        "id": "Jnx4WETG5bIP",
        "outputId": "aa5ede0a-98fd-448a-ce75-8c55d953c78e"
      },
      "source": [
        "data['addr'].value_counts()"
      ],
      "execution_count": null,
      "outputs": [
        {
          "output_type": "execute_result",
          "data": {
            "text/plain": [
              "SHANNONDELL DR & SHANNONDELL BLVD    1090\n",
              "MAIN ST & OLD SUMNEYTOWN PIKE         451\n",
              "THE FAIRWAY  & RYDAL RD               319\n",
              "EVERGREEN RD & W LIGHTCAP RD          264\n",
              "GULPH RD & KIRK AVE                   263\n",
              "                                     ... \n",
              "HEARTH DR & HANCOCK RD                  1\n",
              "ADAMS ST & PARK DR                      1\n",
              "SHIPPEN RD & ATWOOD RD                  1\n",
              "STEEPLECHASE LN & MEADOWGREEN DR        1\n",
              "SUNSET LN & W MONTGOMERY AVE            1\n",
              "Name: addr, Length: 23470, dtype: int64"
            ]
          },
          "metadata": {},
          "execution_count": 24
        }
      ]
    },
    {
      "cell_type": "code",
      "metadata": {
        "colab": {
          "base_uri": "https://localhost:8080/"
        },
        "id": "dRSrNfPq5kCr",
        "outputId": "9cc0deb3-a2a2-423f-f5c7-26526345a618"
      },
      "source": [
        "data[year15]['addr'].value_counts()"
      ],
      "execution_count": null,
      "outputs": [
        {
          "output_type": "execute_result",
          "data": {
            "text/plain": [
              "SHANNONDELL DR & SHANNONDELL BLVD    72\n",
              "GULPH RD & KIRK AVE                  33\n",
              "MAIN ST & OLD SUMNEYTOWN PIKE        31\n",
              "THE FAIRWAY  & RYDAL RD              26\n",
              "GERMANTOWN PIKE & HANNAH AVE         25\n",
              "                                     ..\n",
              "CLYDE RD                              1\n",
              "BYRON RD & ANDREW RD                  1\n",
              "BETHLEHEM PIKE & MAPLE DR             1\n",
              "WILLIAMS RD & DAVIDSON RD             1\n",
              "WOODLAND AVE & DEAD END               1\n",
              "Name: addr, Length: 4553, dtype: int64"
            ]
          },
          "metadata": {},
          "execution_count": 25
        }
      ]
    },
    {
      "cell_type": "code",
      "metadata": {
        "colab": {
          "base_uri": "https://localhost:8080/"
        },
        "id": "DZ3V6HlX5nZs",
        "outputId": "f6c05f03-eaf2-4685-c49e-545bfccf1c43"
      },
      "source": [
        "data[year16]['addr'].value_counts()"
      ],
      "execution_count": null,
      "outputs": [
        {
          "output_type": "execute_result",
          "data": {
            "text/plain": [
              "SHANNONDELL DR & SHANNONDELL BLVD    1018\n",
              "MAIN ST & OLD SUMNEYTOWN PIKE         420\n",
              "THE FAIRWAY  & RYDAL RD               293\n",
              "EVERGREEN RD & W LIGHTCAP RD          255\n",
              "EAGLEVILLE RD & SUNDERLAND DR         239\n",
              "                                     ... \n",
              "CHELTENHAM AVE & COMPOUND 1             1\n",
              "BLEIM RD & ROMIG RD                     1\n",
              "LANTERN LN & GYPSY LN                   1\n",
              "NORRISTOWN RD & EASTON RD               1\n",
              "MAYFIELD AVE & PERRY ST                 1\n",
              "Name: addr, Length: 22757, dtype: int64"
            ]
          },
          "metadata": {},
          "execution_count": 26
        }
      ]
    },
    {
      "cell_type": "code",
      "metadata": {
        "colab": {
          "base_uri": "https://localhost:8080/",
          "height": 469
        },
        "id": "atMV_2gH5o-_",
        "outputId": "b5a9c6e6-a0ca-4ef8-84e5-90583a349786"
      },
      "source": [
        "sns.countplot(x='day of week', data=data)"
      ],
      "execution_count": null,
      "outputs": [
        {
          "output_type": "execute_result",
          "data": {
            "text/plain": [
              "<matplotlib.axes._subplots.AxesSubplot at 0x7f3b5fc0eb90>"
            ]
          },
          "metadata": {},
          "execution_count": 39
        },
        {
          "output_type": "display_data",
          "data": {
            "image/png": "[encoded data removed]",
            "text/plain": [
              "<Figure size 1008x504 with 1 Axes>"
            ]
          },
          "metadata": {}
        }
      ]
    },
    {
      "cell_type": "code",
      "metadata": {
        "colab": {
          "base_uri": "https://localhost:8080/",
          "height": 469
        },
        "id": "dPgeQSzO5vuW",
        "outputId": "977460ea-23a1-43e0-8e1d-330d282cd8b5"
      },
      "source": [
        "sns.countplot(x='month', data=data)"
      ],
      "execution_count": null,
      "outputs": [
        {
          "output_type": "execute_result",
          "data": {
            "text/plain": [
              "<matplotlib.axes._subplots.AxesSubplot at 0x7f3b61390b90>"
            ]
          },
          "metadata": {},
          "execution_count": 40
        },
        {
          "output_type": "display_data",
          "data": {
            "image/png": "[encoded data removed]",
            "text/plain": [
              "<Figure size 1008x504 with 1 Axes>"
            ]
          },
          "metadata": {}
        }
      ]
    },
    {
      "cell_type": "code",
      "metadata": {
        "colab": {
          "base_uri": "https://localhost:8080/",
          "height": 469
        },
        "id": "P6pnV6ke534o",
        "outputId": "70bfc3d0-dd0f-45ff-ecb3-b632a2d94873"
      },
      "source": [
        "sns.countplot(x='hour', data=data)"
      ],
      "execution_count": null,
      "outputs": [
        {
          "output_type": "execute_result",
          "data": {
            "text/plain": [
              "<matplotlib.axes._subplots.AxesSubplot at 0x7f3b60388ed0>"
            ]
          },
          "metadata": {},
          "execution_count": 41
        },
        {
          "output_type": "display_data",
          "data": {
            "image/png": "[encoded data removed]",
            "text/plain": [
              "<Figure size 1008x504 with 1 Axes>"
            ]
          },
          "metadata": {}
        }
      ]
    },
    {
      "cell_type": "code",
      "metadata": {
        "colab": {
          "base_uri": "https://localhost:8080/",
          "height": 469
        },
        "id": "K9v9bOsi557O",
        "outputId": "e667de2b-8977-41c5-cfa8-04a3b9533240"
      },
      "source": [
        "sns.countplot(x='Year', data=data)"
      ],
      "execution_count": null,
      "outputs": [
        {
          "output_type": "execute_result",
          "data": {
            "text/plain": [
              "<matplotlib.axes._subplots.AxesSubplot at 0x7f3b5f3c8550>"
            ]
          },
          "metadata": {},
          "execution_count": 42
        },
        {
          "output_type": "display_data",
          "data": {
            "image/png": "[encoded data removed]",
            "text/plain": [
              "<Figure size 1008x504 with 1 Axes>"
            ]
          },
          "metadata": {}
        }
      ]
    },
    {
      "cell_type": "code",
      "metadata": {
        "colab": {
          "base_uri": "https://localhost:8080/",
          "height": 469
        },
        "id": "zYAUnfV05_Dd",
        "outputId": "979dda36-81f3-4489-db21-790d5e424780"
      },
      "source": [
        "sns.countplot(x='Reason', data=data)"
      ],
      "execution_count": null,
      "outputs": [
        {
          "output_type": "execute_result",
          "data": {
            "text/plain": [
              "<matplotlib.axes._subplots.AxesSubplot at 0x7f3b64807a50>"
            ]
          },
          "metadata": {},
          "execution_count": 43
        },
        {
          "output_type": "display_data",
          "data": {
            "image/png": "[encoded data removed]",
            "text/plain": [
              "<Figure size 1008x504 with 1 Axes>"
            ]
          },
          "metadata": {}
        }
      ]
    },
    {
      "cell_type": "code",
      "metadata": {
        "colab": {
          "base_uri": "https://localhost:8080/",
          "height": 469
        },
        "id": "tVuTrfdq6q5W",
        "outputId": "42e771b7-da6a-4fee-af79-3e1fb8d9e259"
      },
      "source": [
        "sns.countplot(x='hour', data=data, hue='Reason')"
      ],
      "execution_count": null,
      "outputs": [
        {
          "output_type": "execute_result",
          "data": {
            "text/plain": [
              "<matplotlib.axes._subplots.AxesSubplot at 0x7f3b5c8809d0>"
            ]
          },
          "metadata": {},
          "execution_count": 45
        },
        {
          "output_type": "display_data",
          "data": {
            "image/png": "[encoded data removed]",
            "text/plain": [
              "<Figure size 1008x504 with 1 Axes>"
            ]
          },
          "metadata": {}
        }
      ]
    },
    {
      "cell_type": "code",
      "metadata": {
        "colab": {
          "base_uri": "https://localhost:8080/",
          "height": 469
        },
        "id": "3-77sYWf7bVU",
        "outputId": "2b036c9d-13c5-4b75-9e5a-b0af40f1f53e"
      },
      "source": [
        "sns.countplot(x='hour', data=data, hue='Year')"
      ],
      "execution_count": null,
      "outputs": [
        {
          "output_type": "execute_result",
          "data": {
            "text/plain": [
              "<matplotlib.axes._subplots.AxesSubplot at 0x7f3b5d387d90>"
            ]
          },
          "metadata": {},
          "execution_count": 46
        },
        {
          "output_type": "display_data",
          "data": {
            "image/png": "[encoded data removed]",
            "text/plain": [
              "<Figure size 1008x504 with 1 Axes>"
            ]
          },
          "metadata": {}
        }
      ]
    },
    {
      "cell_type": "code",
      "metadata": {
        "colab": {
          "base_uri": "https://localhost:8080/",
          "height": 469
        },
        "id": "VzEqONf_8HP2",
        "outputId": "fff4bd87-25cf-42af-95ac-f285ddd67cb1"
      },
      "source": [
        "sns.countplot(x='hour', data=data, hue='Reason')"
      ],
      "execution_count": null,
      "outputs": [
        {
          "output_type": "execute_result",
          "data": {
            "text/plain": [
              "<matplotlib.axes._subplots.AxesSubplot at 0x7f3b55e59150>"
            ]
          },
          "metadata": {},
          "execution_count": 52
        },
        {
          "output_type": "display_data",
          "data": {
            "image/png": "[encoded data removed]",
            "text/plain": [
              "<Figure size 1008x504 with 1 Axes>"
            ]
          },
          "metadata": {}
        }
      ]
    },
    {
      "cell_type": "code",
      "metadata": {
        "colab": {
          "base_uri": "https://localhost:8080/",
          "height": 469
        },
        "id": "MDec53v876AK",
        "outputId": "d9688ebd-106e-46a8-bff0-ad8af364c6cc"
      },
      "source": [
        "sns.countplot(x='Year', data=data, hue='Reason')"
      ],
      "execution_count": null,
      "outputs": [
        {
          "output_type": "execute_result",
          "data": {
            "text/plain": [
              "<matplotlib.axes._subplots.AxesSubplot at 0x7f3b56cb15d0>"
            ]
          },
          "metadata": {},
          "execution_count": 47
        },
        {
          "output_type": "display_data",
          "data": {
            "image/png": "[encoded data removed]",
            "text/plain": [
              "<Figure size 1008x504 with 1 Axes>"
            ]
          },
          "metadata": {}
        }
      ]
    },
    {
      "cell_type": "code",
      "metadata": {
        "colab": {
          "base_uri": "https://localhost:8080/",
          "height": 469
        },
        "id": "6SiCf2WC7-e8",
        "outputId": "dea6777e-2bea-4d74-8623-314aab55edc0"
      },
      "source": [
        "sns.countplot(x='month', data=data, hue='Reason')"
      ],
      "execution_count": null,
      "outputs": [
        {
          "output_type": "execute_result",
          "data": {
            "text/plain": [
              "<matplotlib.axes._subplots.AxesSubplot at 0x7f3b55e8c250>"
            ]
          },
          "metadata": {},
          "execution_count": 50
        },
        {
          "output_type": "display_data",
          "data": {
            "image/png": "[encoded data removed]",
            "text/plain": [
              "<Figure size 1008x504 with 1 Axes>"
            ]
          },
          "metadata": {}
        }
      ]
    },
    {
      "cell_type": "code",
      "metadata": {
        "colab": {
          "base_uri": "https://localhost:8080/",
          "height": 469
        },
        "id": "mwkZKHqg8Snu",
        "outputId": "1efebeec-27cf-4544-abd8-6516d4e7bf6a"
      },
      "source": [
        "sns.countplot(x='day of week', data=data, hue='Reason')"
      ],
      "execution_count": null,
      "outputs": [
        {
          "output_type": "execute_result",
          "data": {
            "text/plain": [
              "<matplotlib.axes._subplots.AxesSubplot at 0x7f3b55de6a10>"
            ]
          },
          "metadata": {},
          "execution_count": 53
        },
        {
          "output_type": "display_data",
          "data": {
            "image/png": "[encoded data removed]",
            "text/plain": [
              "<Figure size 1008x504 with 1 Axes>"
            ]
          },
          "metadata": {}
        }
      ]
    },
    {
      "cell_type": "code",
      "metadata": {
        "id": "-IbuingY8yrz"
      },
      "source": [
        ""
      ],
      "execution_count": null,
      "outputs": []
    }
  ]
}